{
 "cells": [
  {
   "cell_type": "code",
   "execution_count": 2,
   "metadata": {},
   "outputs": [],
   "source": [
    "import folium\n",
    "import pandas as pd\n",
    "import numpy as np\n",
    "import matplotlib.pyplot as plt\n",
    "import geopandas as gpd\n",
    "import plotly.graph_objects as go\n",
    "import json\n",
    "from shapely import wkt"
   ]
  },
  {
   "cell_type": "code",
   "execution_count": 3,
   "metadata": {},
   "outputs": [],
   "source": [
    "def convert_wkt_to_geometry(df: pd.DataFrame, wkt_column: str) -> gpd.GeoDataFrame:\n",
    "    # Convert the GEOM_WKT column to geometry\n",
    "    df['geometry'] = df[wkt_column].apply(wkt.loads)\n",
    "\n",
    "    # Convert the DataFrame to a GeoDataFrame\n",
    "    return gpd.GeoDataFrame(df.drop(wkt_column, axis='columns'), geometry='geometry')"
   ]
  },
  {
   "cell_type": "code",
   "execution_count": 4,
   "metadata": {},
   "outputs": [],
   "source": [
    "park_trees_df = pd.read_csv('data/trees/street_trees/2023_4T_OD_Arbrat_Viari_BCN.csv')\n",
    "street_trees_df = pd.read_csv('data/trees/street_trees/2023_4T_OD_Arbrat_Viari_BCN.csv')\n",
    "zone_trees_df = pd.read_csv('data/trees/zone_trees/2023_4T_OD_Arbrat_Zona_BCN.csv')\n",
    "\n",
    "all_trees_df = pd.concat([park_trees_df, street_trees_df, zone_trees_df])"
   ]
  },
  {
   "cell_type": "code",
   "execution_count": 6,
   "metadata": {},
   "outputs": [
    {
     "name": "stdout",
     "output_type": "stream",
     "text": [
      "Nombre d'arbres dans les parcs : 147914\n",
      "Nombre d'arbres dans les rues : 147914\n",
      "Nombre d'arbres dans les \"petits espaces verts\" : 44485\n",
      "Nombre total d'arbres dans la ville de Barcelone (hors forêts): 340313\n"
     ]
    }
   ],
   "source": [
    "print('Nombre d\\'arbres dans les parcs :', park_trees_df.shape[0])\n",
    "print('Nombre d\\'arbres dans les rues :', street_trees_df.shape[0])\n",
    "print('Nombre d\\'arbres dans les \"petits espaces verts\" :', zone_trees_df.shape[0])\n",
    "print('Nombre total d\\'arbres dans la ville de Barcelone (hors forêts):', all_trees_df.shape[0])"
   ]
  },
  {
   "cell_type": "code",
   "execution_count": 7,
   "metadata": {},
   "outputs": [],
   "source": [
    "district_df = pd.read_csv(\"./data/district_zone/BarcelonaCiutat_Districtes.csv\")\n",
    "\n",
    "district_df = convert_wkt_to_geometry(district_df, 'geometria_wgs84')\n",
    "\n",
    "# set crs\n",
    "district_df.crs = 'EPSG:4326'"
   ]
  }
 ],
 "metadata": {
  "kernelspec": {
   "display_name": "defi",
   "language": "python",
   "name": "python3"
  },
  "language_info": {
   "codemirror_mode": {
    "name": "ipython",
    "version": 3
   },
   "file_extension": ".py",
   "mimetype": "text/x-python",
   "name": "python",
   "nbconvert_exporter": "python",
   "pygments_lexer": "ipython3",
   "version": "3.12.3"
  }
 },
 "nbformat": 4,
 "nbformat_minor": 2
}
