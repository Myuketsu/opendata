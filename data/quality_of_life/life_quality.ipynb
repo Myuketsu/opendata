{
 "cells": [
  {
   "cell_type": "code",
   "execution_count": 6,
   "metadata": {},
   "outputs": [],
   "source": [
    "import pandas as pd\n",
    "import geopandas as gpd\n",
    "import numpy as np\n",
    "from shapely import wkt\n",
    "import plotly.express as px\n",
    "import matplotlib.pyplot as plt\n",
    "import shapely as shp\n",
    "\n",
    "CENTER_BARCELONA = {\"lat\": 41.3851, \"lon\": 2.1734}\n",
    "\n",
    "def convert_wkt_to_geometry(df: pd.DataFrame, wkt_column: str) -> gpd.GeoDataFrame:\n",
    "    # Convert the GEOM_WKT column to geometry\n",
    "    df['geometry'] = df[wkt_column].apply(wkt.loads)\n",
    "\n",
    "    # Convert the DataFrame to a GeoDataFrame\n",
    "    return gpd.GeoDataFrame(df.drop(wkt_column, axis='columns'), geometry='geometry')"
   ]
  },
  {
   "cell_type": "code",
   "execution_count": 7,
   "metadata": {},
   "outputs": [],
   "source": [
    "DATA_PATH = \"../\"\n",
    "\n",
    "def load_noise_data() -> gpd.GeoDataFrame:\n",
    "    df_values = pd.concat(\n",
    "        [\n",
    "            pd.read_csv(\n",
    "                filepath_or_buffer=\"../noise_monitoring/2023/2023_1S_XarxaSoroll_EqMonitor_Dades_1Hora.csv\",\n",
    "            ),\n",
    "            pd.read_csv(\n",
    "                filepath_or_buffer=\"../noise_monitoring/2023/2023_2S_XarxaSoroll_EqMonitor_Dades_1Hora.csv\",\n",
    "            ),\n",
    "        ]\n",
    "    )\n",
    "\n",
    "    df_values[\"date\"] = pd.to_datetime(\n",
    "        df_values[\"Any\"].astype(str)\n",
    "        + \"-\"\n",
    "        + df_values[\"Mes\"].astype(str)\n",
    "        + \"-\"\n",
    "        + df_values[\"Dia\"].astype(str)\n",
    "        + \" \"\n",
    "        + df_values[\"Hora\"].astype(str)\n",
    "    )\n",
    "\n",
    "    df_values = df_values.drop(columns=[\"Any\", \"Mes\", \"Dia\", \"Hora\"])\n",
    "\n",
    "    df_insta = pd.read_csv(\n",
    "        \"../noise_monitoring/XarxaSoroll_EquipsMonitor_Instal.csv\"\n",
    "    )\n",
    "    df_insta = df_insta[df_insta[\"Id_Instal\"].isin(df_values[\"Id_Instal\"].unique())]\n",
    "\n",
    "    df_insta = df_insta[\n",
    "        [\n",
    "            \"Id_Instal\",\n",
    "            \"Codi_Barri\",\n",
    "            \"Nom_Barri\",\n",
    "            \"Codi_Districte\",\n",
    "            \"Nom_Districte\",\n",
    "            \"Longitud\",\n",
    "            \"Latitud\",\n",
    "            \"Font\",\n",
    "        ]\n",
    "    ]\n",
    "\n",
    "    df = df_values.merge(df_insta, on=\"Id_Instal\")\n",
    "\n",
    "    gdf = gpd.GeoDataFrame(\n",
    "        df, geometry=gpd.points_from_xy(df[\"Longitud\"], df[\"Latitud\"]), crs=\"EPSG:4326\"\n",
    "    ).drop(columns=[\"Longitud\", \"Latitud\"])\n",
    "\n",
    "    gdf = gdf.rename(\n",
    "        columns={\n",
    "            \"Id_Instal\": \"id\",\n",
    "            \"Nivell_LAeq_1h\": \"noise_level\",\n",
    "            \"Codi_Barri\": \"area_code\",\n",
    "            \"Nom_Barri\": \"area_name\",\n",
    "            \"Codi_Districte\": \"district_code\",\n",
    "            \"Nom_Districte\": \"district_name\",\n",
    "            \"Font\": \"source\",\n",
    "        }\n",
    "    )\n",
    "\n",
    "    gdf = gdf.astype(\n",
    "        {\n",
    "            \"id\": \"category\",\n",
    "            \"noise_level\": \"float32\",\n",
    "            \"area_code\": \"category\",\n",
    "            \"area_name\": \"category\",\n",
    "            \"district_code\": \"category\",\n",
    "            \"district_name\": \"category\",\n",
    "            \"source\": \"category\",\n",
    "        }\n",
    "    )\n",
    "\n",
    "    gdf[\"source\"] = gdf[\"source\"].cat.rename_categories(\n",
    "        {\n",
    "            \"ACTIVITATS / INFRASTRUCTURES ESPORTIVES\": \"ACTIVITÉS SPORTIVES / INFRASTRUCTURES\",\n",
    "            \"ANIMALS\": \"ANIMAUX\",\n",
    "            \"NETEJA\": \"NETTOYAGE\",\n",
    "            \"OBRES\": \"TRAVAUX\",\n",
    "            \"OCI\": \"LOISIRS\",\n",
    "            \"PATIS D'ESCOLA\": \"COURS D'ÉCOLE\",\n",
    "            \"TRÀNSIT\": \"TRAFIC\",\n",
    "            \"XARXA DE TRANSPORT PÚBLIC\": \"RÉSEAU DE TRANSPORT PUBLIC\",\n",
    "            \"ZONES PEATONALS\": \"ZONES PIÉTONS\",\n",
    "        }\n",
    "    )\n",
    "\n",
    "    return gdf\n",
    "\n",
    "\n",
    "gdf_noise = load_noise_data()\n",
    "\n",
    "\n",
    "# --- AIR DATA ---\n",
    "\n",
    "\n",
    "def load_air_data() -> gpd.GeoDataFrame:\n",
    "    gdfs = [\n",
    "        pd.read_csv(\n",
    "            DATA_PATH + \"air_quality/2023/2023_tramer_no2_mapa_qualitat_aire_bcn.csv\"\n",
    "        )\n",
    "        .rename(columns={\"Rang\": \"NO2\"})\n",
    "        .astype({\"NO2\": \"category\"}),\n",
    "        pd.read_csv(\n",
    "            DATA_PATH + \"air_quality/2023/2023_tramer_pm2-5_mapa_qualitat_aire_bcn.csv\"\n",
    "        )\n",
    "        .rename(columns={\"Rang\": \"PM2_5\"})\n",
    "        .astype({\"PM2_5\": \"category\"}),\n",
    "        pd.read_csv(\n",
    "            DATA_PATH + \"air_quality/2023/2023_tramer_pm10_mapa_qualitat_aire_bcn.csv\"\n",
    "        )\n",
    "        .rename(columns={\"Rang\": \"PM10\"})\n",
    "        .astype({\"PM10\": \"category\"}),\n",
    "    ]\n",
    "\n",
    "    gdfs = [convert_wkt_to_geometry(gdf, \"GEOM_WKT\") for gdf in gdfs]\n",
    "    gdf: gpd.GeoDataFrame = gdfs[0][[\"TRAM\", \"geometry\"]]\n",
    "    for temp_gdf in gdfs:\n",
    "        gdf = gdf.merge(temp_gdf.drop(columns=[\"geometry\"]), on=\"TRAM\")\n",
    "\n",
    "    gdf[\"NO2\"] = gdf[\"NO2\"].cat.reorder_categories(\n",
    "        [\n",
    "            \"10-20 µg/m³\",\n",
    "            \"20-30 µg/m³\",\n",
    "            \"30-40 µg/m³\",\n",
    "            \"40-50 µg/m³\",\n",
    "            \"50-60 µg/m³\",\n",
    "            \"60-70 µg/m³\",\n",
    "            \">70 µg/m³\",\n",
    "        ],\n",
    "        ordered=True,\n",
    "    )\n",
    "\n",
    "    gdf[\"PM2_5\"] = gdf[\"PM2_5\"].cat.reorder_categories(\n",
    "        [\"5-10 µg/m³\", \"10-15 µg/m³\", \"15-20 µg/m³\", \"20-25 µg/m³\", \"25-30 µg/m³\"],\n",
    "        ordered=True,\n",
    "    )\n",
    "\n",
    "    gdf[\"PM10\"] = gdf[\"PM10\"].cat.reorder_categories(\n",
    "        [\n",
    "            \"<=15 µg/m³\",\n",
    "            \"15-20 µg/m³\",\n",
    "            \"20-25 µg/m³\",\n",
    "            \"25-30 µg/m³\",\n",
    "            \"30-35 µg/m³\",\n",
    "            \"35-40 µg/m³\",\n",
    "            \"> 40 µg/m³\",\n",
    "        ],\n",
    "        ordered=True,\n",
    "    )\n",
    "\n",
    "    return gdf.set_crs(epsg=25831).to_crs(epsg=4326)\n",
    "\n",
    "\n",
    "gdf_air = load_air_data()\n",
    "# gdf_air_json = gdf_air.to_json()\n",
    "\n",
    "\n",
    "# --- TREES DATA ---\n",
    "\n",
    "\n",
    "def load_trees_data() -> gpd.GeoDataFrame:\n",
    "    park_trees_df = pd.read_csv(\n",
    "        DATA_PATH + \"trees/street_trees/2023_4T_OD_Arbrat_Viari_BCN.csv\"\n",
    "    )\n",
    "    street_trees_df = pd.read_csv(\n",
    "        DATA_PATH + \"trees/street_trees/2023_4T_OD_Arbrat_Viari_BCN.csv\"\n",
    "    )\n",
    "    zone_trees_df = pd.read_csv(\n",
    "        DATA_PATH + \"trees/zone_trees/2023_4T_OD_Arbrat_Zona_BCN.csv\"\n",
    "    )\n",
    "\n",
    "    all_trees_df = pd.concat(\n",
    "        [park_trees_df, street_trees_df, zone_trees_df]\n",
    "    )  # Concatenate the three DataFrames\n",
    "\n",
    "    # Get the number of trees per district\n",
    "    trees_per_district = (\n",
    "        all_trees_df[[\"codi_districte\", \"nom_districte\"]]\n",
    "        .value_counts(sort=1)\n",
    "        .reset_index()\n",
    "    )\n",
    "    trees_per_district.columns = [\"Code\", \"District\", \"Number of Trees\"]\n",
    "    trees_per_district.loc[len(trees_per_district.index)] = [\n",
    "        \"0\",\n",
    "        \"TOTAL\",\n",
    "        all_trees_df.shape[0],\n",
    "    ]\n",
    "\n",
    "    # Create a DataFrame with the areas of each district\n",
    "    district_areas_df = pd.DataFrame(\n",
    "        {\n",
    "            \"District\": [\n",
    "                \"CIUTAT VELLA\",\n",
    "                \"EIXAMPLE\",\n",
    "                \"SANTS - MONTJUÏC\",\n",
    "                \"LES CORTS\",\n",
    "                \"SARRIÀ - SANT GERVASI\",\n",
    "                \"GRÀCIA\",\n",
    "                \"HORTA - GUINARDÓ\",\n",
    "                \"NOU BARRIS\",\n",
    "                \"SANT ANDREU\",\n",
    "                \"SANT MARTÍ\",\n",
    "                \"TOTAL\",\n",
    "            ],\n",
    "            \"Area\": [\n",
    "                4.11,\n",
    "                7.46,\n",
    "                22.68,\n",
    "                6.02,\n",
    "                19.91,\n",
    "                4.19,\n",
    "                11.96,\n",
    "                8.05,\n",
    "                6.59,\n",
    "                10.39,\n",
    "                101.36,\n",
    "            ],\n",
    "        }\n",
    "    )\n",
    "\n",
    "    # Calculate the number of trees per km²\n",
    "    trees_per_district = trees_per_district.merge(district_areas_df, on=\"District\")\n",
    "    trees_per_district[\"Trees per km²\"] = (\n",
    "        trees_per_district[\"Number of Trees\"] / trees_per_district[\"Area\"]\n",
    "    )\n",
    "\n",
    "    district_df = pd.read_csv(\n",
    "        DATA_PATH + \"district_zone/BarcelonaCiutat_Districtes.csv\"\n",
    "    )\n",
    "\n",
    "    # Convert the WKT geometries to Shapely geometries\n",
    "    district_df = convert_wkt_to_geometry(district_df, \"geometria_wgs84\").set_crs(\n",
    "        epsg=4326\n",
    "    )\n",
    "\n",
    "    # Create a GeoDataFrame with the number of trees per district\n",
    "    district_df = district_df.merge(\n",
    "        trees_per_district, left_on=\"Codi_Districte\", right_on=\"Code\"\n",
    "    ).drop(columns=[\"geometria_etrs89\", \"District\"])\n",
    "\n",
    "    gdf_trees = district_df.rename(\n",
    "        columns={\n",
    "            \"Codi_Districte\": \"district_code\",\n",
    "            \"nom_districte\": \"district_name\",\n",
    "        }\n",
    "    )[\n",
    "        [\n",
    "            \"district_code\",\n",
    "            \"district_name\",\n",
    "            \"Number of Trees\",\n",
    "            \"Trees per km²\",\n",
    "            \"geometry\",\n",
    "        ]\n",
    "    ]\n",
    "\n",
    "    gdf_trees = gdf_trees.astype(\n",
    "        {\n",
    "            \"district_code\": \"category\",\n",
    "            \"district_name\": \"category\",\n",
    "            \"Number of Trees\": \"int32\",\n",
    "            \"Trees per km²\": \"float32\",\n",
    "        }\n",
    "    )\n",
    "\n",
    "    return gdf_trees\n",
    "\n",
    "\n",
    "gdf_trees = load_trees_data()\n",
    "\n",
    "# --- HOSPITALS DATA ---\n",
    "\n",
    "\n",
    "def load_hospitals_data() -> gpd.GeoDataFrame:\n",
    "    df = pd.read_csv(\"../district_zone/mean_distances_hospitals.csv\")\n",
    "    return gpd.GeoDataFrame(df, geometry=gpd.GeoSeries.from_wkt(df[\"geometry\"]), crs=\"EPSG:4326\")\n",
    "\n",
    "gdf_hospitals = load_hospitals_data()"
   ]
  },
  {
   "cell_type": "code",
   "execution_count": 8,
   "metadata": {},
   "outputs": [],
   "source": [
    "gdf = gdf_hospitals.drop_duplicates(\"district_code\")\n",
    "gdf = gpd.GeoDataFrame(\n",
    "    gdf[[\"district_code\", \"district_name\", \"mean_distance\"]],\n",
    "    geometry=gpd.GeoSeries.from_wkt(gdf[\"geometry_district\"]),\n",
    "    crs=\"EPSG:4326\",\n",
    ")\n",
    "\n",
    "# Assurez-vous que les deux GeoDataFrames ont le même CRS\n",
    "gdf = gdf.to_crs(epsg=4326)\n",
    "gdf_air = gdf_air.to_crs(epsg=4326)\n",
    "\n",
    "# Effectuer une jointure spatiale pour récupérer les districts qui intersectent les lignes\n",
    "intersections = gpd.sjoin(gdf_air, gdf, predicate=\"intersects\")\n",
    "\n",
    "# Calculer la longueur de l'intersection pour chaque ligne\n",
    "intersections[\"intersection_length\"] = intersections.apply(\n",
    "    lambda row: row[\"geometry\"]\n",
    "    .intersection(gdf.loc[row[\"index_right\"], \"geometry\"])\n",
    "    .length,\n",
    "    axis=1,\n",
    ")\n",
    "\n",
    "# Trouver le district avec la plus grande longueur d'intersection pour chaque ligne\n",
    "best_matches = intersections.loc[\n",
    "    intersections.groupby(\"TRAM\")[\"intersection_length\"].idxmax(),\n",
    "    [\"TRAM\", \"district_code\"],\n",
    "]\n",
    "\n",
    "# Joindre cette information au gdf_air\n",
    "gdf_air = (\n",
    "    gdf_air.merge(best_matches, on=\"TRAM\", how=\"left\")\n",
    "    .dropna()\n",
    "    .astype({\"district_code\": \"int8\"})\n",
    ")"
   ]
  },
  {
   "cell_type": "code",
   "execution_count": 9,
   "metadata": {},
   "outputs": [],
   "source": [
    "no2_below_40 = gdf_air[\n",
    "    gdf_air[\"NO2\"].isin([\"10-20 µg/m³\", \"20-30 µg/m³\", \"30-40 µg/m³\"])\n",
    "]\n",
    "no2_count_per_district = no2_below_40.groupby(\"district_code\")[\"NO2\"].count()\n",
    "temp_gdf = (\n",
    "    gdf_air.groupby(\"district_code\")[\"NO2\"]\n",
    "    .size()\n",
    "    .reset_index()\n",
    "    .merge(no2_count_per_district, on=\"district_code\", suffixes=(\"_total\", \"_below_40\"))\n",
    ")\n",
    "temp_gdf[\"score_NO2\"] = temp_gdf[\"NO2_below_40\"] / temp_gdf[\"NO2_total\"]\n",
    "\n",
    "gdf = gdf.merge(temp_gdf[[\"district_code\", \"score_NO2\"]], on=\"district_code\")\n",
    "\n",
    "pm10_below_30 = gdf_air[\n",
    "    gdf_air[\"PM10\"].isin([\"<=15 µg/m³\", \"15-20 µg/m³\", \"20-25 µg/m³\", \"25-30 µg/m³\"])\n",
    "]\n",
    "pm10_count_per_district = pm10_below_30.groupby(\"district_code\")[\"PM10\"].count()\n",
    "temp_gdf = (\n",
    "    gdf_air.groupby(\"district_code\")[\"PM10\"]\n",
    "    .size()\n",
    "    .reset_index()\n",
    "    .merge(\n",
    "        pm10_count_per_district, on=\"district_code\", suffixes=(\"_total\", \"_below_30\")\n",
    "    )\n",
    ")\n",
    "temp_gdf[\"score_PM10\"] = temp_gdf[\"PM10_below_30\"] / temp_gdf[\"PM10_total\"]\n",
    "\n",
    "gdf = gdf.merge(temp_gdf[[\"district_code\", \"score_PM10\"]], on=\"district_code\")\n",
    "\n",
    "pm2_5_below_10 = gdf_air[gdf_air[\"PM2_5\"].isin([\"5-10 µg/m³\"])]\n",
    "pm2_5_count_per_district = pm2_5_below_10.groupby(\"district_code\")[\"PM2_5\"].count()\n",
    "temp_gdf = (\n",
    "    gdf_air.groupby(\"district_code\")[\"PM2_5\"]\n",
    "    .size()\n",
    "    .reset_index()\n",
    "    .merge(\n",
    "        pm2_5_count_per_district, on=\"district_code\", suffixes=(\"_total\", \"_below_10\")\n",
    "    )\n",
    ")\n",
    "temp_gdf[\"score_PM2_5\"] = temp_gdf[\"PM2_5_below_10\"] / temp_gdf[\"PM2_5_total\"]\n",
    "\n",
    "gdf = gdf.merge(\n",
    "    temp_gdf[[\"district_code\", \"score_PM2_5\"]], on=\"district_code\", how=\"left\"\n",
    ").fillna(0)\n",
    "\n",
    "tmp_noise = gdf_noise.groupby(\"district_code\", observed=False)[\"noise_level\"].mean()\n",
    "tmp_noise = (\n",
    "    (1 - tmp_noise / tmp_noise.max())\n",
    "    .reset_index()\n",
    "    .rename(columns={\"noise_level\": \"score_noise\"})\n",
    ")\n",
    "gdf = gdf.merge(tmp_noise, on=\"district_code\")\n",
    "\n",
    "tmp_trees = gdf_trees.groupby(\"district_code\", observed=False)[\"Trees per km²\"].mean()\n",
    "tmp_trees = (\n",
    "    (tmp_trees / tmp_trees.max())\n",
    "    .reset_index()\n",
    "    .rename(columns={\"Trees per km²\": \"score_trees\"})\n",
    ")\n",
    "gdf = gdf.merge(tmp_trees, on=\"district_code\")\n",
    "\n",
    "tmp_hospitals = gdf_hospitals.groupby(\"district_code\", observed=False)[\n",
    "    \"mean_distance\"\n",
    "].mean()\n",
    "tmp_hospitals = (\n",
    "    (1 - tmp_hospitals / tmp_hospitals.max())\n",
    "    .reset_index()\n",
    "    .rename(columns={\"mean_distance\": \"score_hospitals\"})\n",
    ")\n",
    "gdf = gdf.merge(tmp_hospitals, on=\"district_code\")\n",
    "\n",
    "gdf[\"score_quality_of_life\"] = (\n",
    "    gdf[\"score_NO2\"] * 0.2\n",
    "    + gdf[\"score_PM10\"] * 0.2\n",
    "    + gdf[\"score_PM2_5\"] * 0.2\n",
    "    + gdf[\"score_noise\"] * 0.2\n",
    "    + gdf[\"score_trees\"] * 0.1\n",
    "    + gdf[\"score_hospitals\"] * 0.1\n",
    ")"
   ]
  },
  {
   "cell_type": "code",
   "execution_count": 10,
   "metadata": {},
   "outputs": [],
   "source": [
    "gdf.to_csv(\"quality_of_life_per_district.csv\", index=False)"
   ]
  },
  {
   "cell_type": "code",
   "execution_count": null,
   "metadata": {},
   "outputs": [
    {
     "data": {
      "application/vnd.plotly.v1+json": {
       "config": {
        "plotlyServerURL": "https://plot.ly"
       },
       "data": [
        {
         "coloraxis": "coloraxis",
         "hovertemplate": "x: %{x}<br>y: %{y}<br>color: %{z}<extra></extra>",
         "name": "0",
         "texttemplate": "%{z}",
         "type": "heatmap",
         "x": [
          "score_NO2",
          "score_PM10",
          "score_PM2_5",
          "score_noise",
          "score_trees",
          "score_hospitals"
         ],
         "xaxis": "x",
         "y": [
          "score_NO2",
          "score_PM10",
          "score_PM2_5",
          "score_noise",
          "score_trees",
          "score_hospitals"
         ],
         "yaxis": "y",
         "z": [
          [
           1,
           -0.35,
           0.08,
           0.26,
           -0.39,
           -0.51
          ],
          [
           -0.35,
           1,
           -0.43,
           -0.34,
           0.54,
           0.18
          ],
          [
           0.08,
           -0.43,
           1,
           0.11,
           -0.38,
           0.06
          ],
          [
           0.26,
           -0.34,
           0.11,
           1,
           0.23,
           0.32
          ],
          [
           -0.39,
           0.54,
           -0.38,
           0.23,
           1,
           0.6
          ],
          [
           -0.51,
           0.18,
           0.06,
           0.32,
           0.6,
           1
          ]
         ]
        }
       ],
       "layout": {
        "coloraxis": {
         "colorscale": [
          [
           0,
           "#0d0887"
          ],
          [
           0.1111111111111111,
           "#46039f"
          ],
          [
           0.2222222222222222,
           "#7201a8"
          ],
          [
           0.3333333333333333,
           "#9c179e"
          ],
          [
           0.4444444444444444,
           "#bd3786"
          ],
          [
           0.5555555555555556,
           "#d8576b"
          ],
          [
           0.6666666666666666,
           "#ed7953"
          ],
          [
           0.7777777777777778,
           "#fb9f3a"
          ],
          [
           0.8888888888888888,
           "#fdca26"
          ],
          [
           1,
           "#f0f921"
          ]
         ]
        },
        "template": {
         "data": {
          "bar": [
           {
            "error_x": {
             "color": "#2a3f5f"
            },
            "error_y": {
             "color": "#2a3f5f"
            },
            "marker": {
             "line": {
              "color": "#E5ECF6",
              "width": 0.5
             },
             "pattern": {
              "fillmode": "overlay",
              "size": 10,
              "solidity": 0.2
             }
            },
            "type": "bar"
           }
          ],
          "barpolar": [
           {
            "marker": {
             "line": {
              "color": "#E5ECF6",
              "width": 0.5
             },
             "pattern": {
              "fillmode": "overlay",
              "size": 10,
              "solidity": 0.2
             }
            },
            "type": "barpolar"
           }
          ],
          "carpet": [
           {
            "aaxis": {
             "endlinecolor": "#2a3f5f",
             "gridcolor": "white",
             "linecolor": "white",
             "minorgridcolor": "white",
             "startlinecolor": "#2a3f5f"
            },
            "baxis": {
             "endlinecolor": "#2a3f5f",
             "gridcolor": "white",
             "linecolor": "white",
             "minorgridcolor": "white",
             "startlinecolor": "#2a3f5f"
            },
            "type": "carpet"
           }
          ],
          "choropleth": [
           {
            "colorbar": {
             "outlinewidth": 0,
             "ticks": ""
            },
            "type": "choropleth"
           }
          ],
          "contour": [
           {
            "colorbar": {
             "outlinewidth": 0,
             "ticks": ""
            },
            "colorscale": [
             [
              0,
              "#0d0887"
             ],
             [
              0.1111111111111111,
              "#46039f"
             ],
             [
              0.2222222222222222,
              "#7201a8"
             ],
             [
              0.3333333333333333,
              "#9c179e"
             ],
             [
              0.4444444444444444,
              "#bd3786"
             ],
             [
              0.5555555555555556,
              "#d8576b"
             ],
             [
              0.6666666666666666,
              "#ed7953"
             ],
             [
              0.7777777777777778,
              "#fb9f3a"
             ],
             [
              0.8888888888888888,
              "#fdca26"
             ],
             [
              1,
              "#f0f921"
             ]
            ],
            "type": "contour"
           }
          ],
          "contourcarpet": [
           {
            "colorbar": {
             "outlinewidth": 0,
             "ticks": ""
            },
            "type": "contourcarpet"
           }
          ],
          "heatmap": [
           {
            "colorbar": {
             "outlinewidth": 0,
             "ticks": ""
            },
            "colorscale": [
             [
              0,
              "#0d0887"
             ],
             [
              0.1111111111111111,
              "#46039f"
             ],
             [
              0.2222222222222222,
              "#7201a8"
             ],
             [
              0.3333333333333333,
              "#9c179e"
             ],
             [
              0.4444444444444444,
              "#bd3786"
             ],
             [
              0.5555555555555556,
              "#d8576b"
             ],
             [
              0.6666666666666666,
              "#ed7953"
             ],
             [
              0.7777777777777778,
              "#fb9f3a"
             ],
             [
              0.8888888888888888,
              "#fdca26"
             ],
             [
              1,
              "#f0f921"
             ]
            ],
            "type": "heatmap"
           }
          ],
          "heatmapgl": [
           {
            "colorbar": {
             "outlinewidth": 0,
             "ticks": ""
            },
            "colorscale": [
             [
              0,
              "#0d0887"
             ],
             [
              0.1111111111111111,
              "#46039f"
             ],
             [
              0.2222222222222222,
              "#7201a8"
             ],
             [
              0.3333333333333333,
              "#9c179e"
             ],
             [
              0.4444444444444444,
              "#bd3786"
             ],
             [
              0.5555555555555556,
              "#d8576b"
             ],
             [
              0.6666666666666666,
              "#ed7953"
             ],
             [
              0.7777777777777778,
              "#fb9f3a"
             ],
             [
              0.8888888888888888,
              "#fdca26"
             ],
             [
              1,
              "#f0f921"
             ]
            ],
            "type": "heatmapgl"
           }
          ],
          "histogram": [
           {
            "marker": {
             "pattern": {
              "fillmode": "overlay",
              "size": 10,
              "solidity": 0.2
             }
            },
            "type": "histogram"
           }
          ],
          "histogram2d": [
           {
            "colorbar": {
             "outlinewidth": 0,
             "ticks": ""
            },
            "colorscale": [
             [
              0,
              "#0d0887"
             ],
             [
              0.1111111111111111,
              "#46039f"
             ],
             [
              0.2222222222222222,
              "#7201a8"
             ],
             [
              0.3333333333333333,
              "#9c179e"
             ],
             [
              0.4444444444444444,
              "#bd3786"
             ],
             [
              0.5555555555555556,
              "#d8576b"
             ],
             [
              0.6666666666666666,
              "#ed7953"
             ],
             [
              0.7777777777777778,
              "#fb9f3a"
             ],
             [
              0.8888888888888888,
              "#fdca26"
             ],
             [
              1,
              "#f0f921"
             ]
            ],
            "type": "histogram2d"
           }
          ],
          "histogram2dcontour": [
           {
            "colorbar": {
             "outlinewidth": 0,
             "ticks": ""
            },
            "colorscale": [
             [
              0,
              "#0d0887"
             ],
             [
              0.1111111111111111,
              "#46039f"
             ],
             [
              0.2222222222222222,
              "#7201a8"
             ],
             [
              0.3333333333333333,
              "#9c179e"
             ],
             [
              0.4444444444444444,
              "#bd3786"
             ],
             [
              0.5555555555555556,
              "#d8576b"
             ],
             [
              0.6666666666666666,
              "#ed7953"
             ],
             [
              0.7777777777777778,
              "#fb9f3a"
             ],
             [
              0.8888888888888888,
              "#fdca26"
             ],
             [
              1,
              "#f0f921"
             ]
            ],
            "type": "histogram2dcontour"
           }
          ],
          "mesh3d": [
           {
            "colorbar": {
             "outlinewidth": 0,
             "ticks": ""
            },
            "type": "mesh3d"
           }
          ],
          "parcoords": [
           {
            "line": {
             "colorbar": {
              "outlinewidth": 0,
              "ticks": ""
             }
            },
            "type": "parcoords"
           }
          ],
          "pie": [
           {
            "automargin": true,
            "type": "pie"
           }
          ],
          "scatter": [
           {
            "fillpattern": {
             "fillmode": "overlay",
             "size": 10,
             "solidity": 0.2
            },
            "type": "scatter"
           }
          ],
          "scatter3d": [
           {
            "line": {
             "colorbar": {
              "outlinewidth": 0,
              "ticks": ""
             }
            },
            "marker": {
             "colorbar": {
              "outlinewidth": 0,
              "ticks": ""
             }
            },
            "type": "scatter3d"
           }
          ],
          "scattercarpet": [
           {
            "marker": {
             "colorbar": {
              "outlinewidth": 0,
              "ticks": ""
             }
            },
            "type": "scattercarpet"
           }
          ],
          "scattergeo": [
           {
            "marker": {
             "colorbar": {
              "outlinewidth": 0,
              "ticks": ""
             }
            },
            "type": "scattergeo"
           }
          ],
          "scattergl": [
           {
            "marker": {
             "colorbar": {
              "outlinewidth": 0,
              "ticks": ""
             }
            },
            "type": "scattergl"
           }
          ],
          "scattermapbox": [
           {
            "marker": {
             "colorbar": {
              "outlinewidth": 0,
              "ticks": ""
             }
            },
            "type": "scattermapbox"
           }
          ],
          "scatterpolar": [
           {
            "marker": {
             "colorbar": {
              "outlinewidth": 0,
              "ticks": ""
             }
            },
            "type": "scatterpolar"
           }
          ],
          "scatterpolargl": [
           {
            "marker": {
             "colorbar": {
              "outlinewidth": 0,
              "ticks": ""
             }
            },
            "type": "scatterpolargl"
           }
          ],
          "scatterternary": [
           {
            "marker": {
             "colorbar": {
              "outlinewidth": 0,
              "ticks": ""
             }
            },
            "type": "scatterternary"
           }
          ],
          "surface": [
           {
            "colorbar": {
             "outlinewidth": 0,
             "ticks": ""
            },
            "colorscale": [
             [
              0,
              "#0d0887"
             ],
             [
              0.1111111111111111,
              "#46039f"
             ],
             [
              0.2222222222222222,
              "#7201a8"
             ],
             [
              0.3333333333333333,
              "#9c179e"
             ],
             [
              0.4444444444444444,
              "#bd3786"
             ],
             [
              0.5555555555555556,
              "#d8576b"
             ],
             [
              0.6666666666666666,
              "#ed7953"
             ],
             [
              0.7777777777777778,
              "#fb9f3a"
             ],
             [
              0.8888888888888888,
              "#fdca26"
             ],
             [
              1,
              "#f0f921"
             ]
            ],
            "type": "surface"
           }
          ],
          "table": [
           {
            "cells": {
             "fill": {
              "color": "#EBF0F8"
             },
             "line": {
              "color": "white"
             }
            },
            "header": {
             "fill": {
              "color": "#C8D4E3"
             },
             "line": {
              "color": "white"
             }
            },
            "type": "table"
           }
          ]
         },
         "layout": {
          "annotationdefaults": {
           "arrowcolor": "#2a3f5f",
           "arrowhead": 0,
           "arrowwidth": 1
          },
          "autotypenumbers": "strict",
          "coloraxis": {
           "colorbar": {
            "outlinewidth": 0,
            "ticks": ""
           }
          },
          "colorscale": {
           "diverging": [
            [
             0,
             "#8e0152"
            ],
            [
             0.1,
             "#c51b7d"
            ],
            [
             0.2,
             "#de77ae"
            ],
            [
             0.3,
             "#f1b6da"
            ],
            [
             0.4,
             "#fde0ef"
            ],
            [
             0.5,
             "#f7f7f7"
            ],
            [
             0.6,
             "#e6f5d0"
            ],
            [
             0.7,
             "#b8e186"
            ],
            [
             0.8,
             "#7fbc41"
            ],
            [
             0.9,
             "#4d9221"
            ],
            [
             1,
             "#276419"
            ]
           ],
           "sequential": [
            [
             0,
             "#0d0887"
            ],
            [
             0.1111111111111111,
             "#46039f"
            ],
            [
             0.2222222222222222,
             "#7201a8"
            ],
            [
             0.3333333333333333,
             "#9c179e"
            ],
            [
             0.4444444444444444,
             "#bd3786"
            ],
            [
             0.5555555555555556,
             "#d8576b"
            ],
            [
             0.6666666666666666,
             "#ed7953"
            ],
            [
             0.7777777777777778,
             "#fb9f3a"
            ],
            [
             0.8888888888888888,
             "#fdca26"
            ],
            [
             1,
             "#f0f921"
            ]
           ],
           "sequentialminus": [
            [
             0,
             "#0d0887"
            ],
            [
             0.1111111111111111,
             "#46039f"
            ],
            [
             0.2222222222222222,
             "#7201a8"
            ],
            [
             0.3333333333333333,
             "#9c179e"
            ],
            [
             0.4444444444444444,
             "#bd3786"
            ],
            [
             0.5555555555555556,
             "#d8576b"
            ],
            [
             0.6666666666666666,
             "#ed7953"
            ],
            [
             0.7777777777777778,
             "#fb9f3a"
            ],
            [
             0.8888888888888888,
             "#fdca26"
            ],
            [
             1,
             "#f0f921"
            ]
           ]
          },
          "colorway": [
           "#636efa",
           "#EF553B",
           "#00cc96",
           "#ab63fa",
           "#FFA15A",
           "#19d3f3",
           "#FF6692",
           "#B6E880",
           "#FF97FF",
           "#FECB52"
          ],
          "font": {
           "color": "#2a3f5f"
          },
          "geo": {
           "bgcolor": "white",
           "lakecolor": "white",
           "landcolor": "#E5ECF6",
           "showlakes": true,
           "showland": true,
           "subunitcolor": "white"
          },
          "hoverlabel": {
           "align": "left"
          },
          "hovermode": "closest",
          "mapbox": {
           "style": "light"
          },
          "paper_bgcolor": "white",
          "plot_bgcolor": "#E5ECF6",
          "polar": {
           "angularaxis": {
            "gridcolor": "white",
            "linecolor": "white",
            "ticks": ""
           },
           "bgcolor": "#E5ECF6",
           "radialaxis": {
            "gridcolor": "white",
            "linecolor": "white",
            "ticks": ""
           }
          },
          "scene": {
           "xaxis": {
            "backgroundcolor": "#E5ECF6",
            "gridcolor": "white",
            "gridwidth": 2,
            "linecolor": "white",
            "showbackground": true,
            "ticks": "",
            "zerolinecolor": "white"
           },
           "yaxis": {
            "backgroundcolor": "#E5ECF6",
            "gridcolor": "white",
            "gridwidth": 2,
            "linecolor": "white",
            "showbackground": true,
            "ticks": "",
            "zerolinecolor": "white"
           },
           "zaxis": {
            "backgroundcolor": "#E5ECF6",
            "gridcolor": "white",
            "gridwidth": 2,
            "linecolor": "white",
            "showbackground": true,
            "ticks": "",
            "zerolinecolor": "white"
           }
          },
          "shapedefaults": {
           "line": {
            "color": "#2a3f5f"
           }
          },
          "ternary": {
           "aaxis": {
            "gridcolor": "white",
            "linecolor": "white",
            "ticks": ""
           },
           "baxis": {
            "gridcolor": "white",
            "linecolor": "white",
            "ticks": ""
           },
           "bgcolor": "#E5ECF6",
           "caxis": {
            "gridcolor": "white",
            "linecolor": "white",
            "ticks": ""
           }
          },
          "title": {
           "x": 0.05
          },
          "xaxis": {
           "automargin": true,
           "gridcolor": "white",
           "linecolor": "white",
           "ticks": "",
           "title": {
            "standoff": 15
           },
           "zerolinecolor": "white",
           "zerolinewidth": 2
          },
          "yaxis": {
           "automargin": true,
           "gridcolor": "white",
           "linecolor": "white",
           "ticks": "",
           "title": {
            "standoff": 15
           },
           "zerolinecolor": "white",
           "zerolinewidth": 2
          }
         }
        },
        "title": {
         "text": "Matrice de corrélation des scores de qualité de vie"
        },
        "xaxis": {
         "anchor": "y",
         "domain": [
          0,
          1
         ]
        },
        "yaxis": {
         "anchor": "x",
         "autorange": "reversed",
         "domain": [
          0,
          1
         ]
        }
       }
      }
     },
     "metadata": {},
     "output_type": "display_data"
    }
   ],
   "source": [
    "# Calculate the correlation matrix and round to 2 decimals\n",
    "corr_matrix = gdf[[\"score_NO2\", \"score_PM10\", \"score_PM2_5\", \"score_noise\", \"score_trees\", \"score_hospitals\"]].corr().round(2)\n",
    "\n",
    "# Create a heatmap using plotly\n",
    "fig = px.imshow(corr_matrix, text_auto=True, aspect=\"auto\", title=\"Matrice de corrélation des scores de qualité de vie\")\n",
    "\n",
    "# Show the plot\n",
    "fig.show()"
   ]
  },
  {
   "cell_type": "code",
   "execution_count": 13,
   "metadata": {},
   "outputs": [],
   "source": [
    "import folium\n",
    "import branca.colormap as cm\n",
    "\n",
    "# Create a map centered on Barcelona\n",
    "map = folium.Map(location=[CENTER_BARCELONA['lat'], CENTER_BARCELONA['lon']], zoom_start=12)\n",
    "\n",
    "# Create a colormap\n",
    "colormap = cm.linear.YlGnBu_09.scale(0, 1)\n",
    "colormap.caption = 'Score de qualité de vie'\n",
    "\n",
    "# Add the GeoDataFrame to the map\n",
    "folium.GeoJson(\n",
    "    gdf,\n",
    "    style_function=lambda feature: {\n",
    "        'fillColor': colormap(feature['properties']['score_quality_of_life']),\n",
    "        'color': 'black',\n",
    "        'weight': 1,\n",
    "        'fillOpacity': 0.9,\n",
    "    },\n",
    "    tooltip=folium.GeoJsonTooltip(fields=['district_name', 'score_quality_of_life'], aliases=['District', 'Quality of Life Score'])\n",
    ").add_to(map)\n",
    "\n",
    "# Add the colormap to the map\n",
    "colormap.add_to(map)\n",
    "\n",
    "legend_html = f\"\"\"\n",
    "<div style=\"position: fixed; \n",
    "            top: 10px; left: 50px; \n",
    "            border: 1px solid grey; border-radius: 5px; padding: 1px 6px;\n",
    "            background-color:white;\n",
    "            z-index:9999; font-size:18px;\n",
    "            \">\n",
    "    <b>Carte de Barcelone des niveau de qualité de vie par district</b>\n",
    "</div>\n",
    "\"\"\"\n",
    "\n",
    "map.get_root().html.add_child(folium.Element(legend_html))\n",
    "\n",
    "# Display the map\n",
    "map.save(\"quality_of_life_map.html\")"
   ]
  }
 ],
 "metadata": {
  "kernelspec": {
   "display_name": "base",
   "language": "python",
   "name": "python3"
  },
  "language_info": {
   "codemirror_mode": {
    "name": "ipython",
    "version": 3
   },
   "file_extension": ".py",
   "mimetype": "text/x-python",
   "name": "python",
   "nbconvert_exporter": "python",
   "pygments_lexer": "ipython3",
   "version": "3.12.3"
  }
 },
 "nbformat": 4,
 "nbformat_minor": 2
}
