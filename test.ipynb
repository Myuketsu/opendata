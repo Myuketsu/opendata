{
 "cells": [
  {
   "cell_type": "code",
   "execution_count": null,
   "metadata": {},
   "outputs": [],
   "source": [
    "import pandas as pd\n",
    "import geopandas as gpd\n",
    "from shapely import wkt\n",
    "import plotly.express as px\n",
    "import matplotlib.pyplot as plt\n",
    "from json import loads\n",
    "\n",
    "CENTER_BARCELONA = {\"lat\": 41.3851, \"lon\": 2.1734}\n",
    "\n",
    "def convert_wkt_to_geometry(df: pd.DataFrame, wkt_column: str) -> gpd.GeoDataFrame:\n",
    "    # Convert the GEOM_WKT column to geometry\n",
    "    df['geometry'] = df[wkt_column].apply(wkt.loads)\n",
    "\n",
    "    # Convert the DataFrame to a GeoDataFrame\n",
    "    return gpd.GeoDataFrame(df.drop(wkt_column, axis='columns'), geometry='geometry')"
   ]
  },
  {
   "cell_type": "code",
   "execution_count": null,
   "metadata": {},
   "outputs": [],
   "source": [
    "DATA_PATH = \"./data/\"\n",
    "\n",
    "gdfs = [\n",
    "    pd.read_csv(\n",
    "        DATA_PATH + \"air_quality/2023/2023_tramer_no2_mapa_qualitat_aire_bcn.csv\"\n",
    "    )\n",
    "    .rename(columns={\"Rang\": \"NO2\"})\n",
    "    .astype({\"NO2\": \"category\"}),\n",
    "    pd.read_csv(\n",
    "        DATA_PATH + \"air_quality/2023/2023_tramer_pm2-5_mapa_qualitat_aire_bcn.csv\"\n",
    "    )\n",
    "    .rename(columns={\"Rang\": \"PM2_5\"})\n",
    "    .astype({\"PM2_5\": \"category\"}),\n",
    "    pd.read_csv(\n",
    "        DATA_PATH + \"air_quality/2023/2023_tramer_pm10_mapa_qualitat_aire_bcn.csv\"\n",
    "    )\n",
    "    .rename(columns={\"Rang\": \"PM10\"})\n",
    "    .astype({\"PM10\": \"category\"}),\n",
    "]\n",
    "\n",
    "gdfs = [convert_wkt_to_geometry(gdf, \"GEOM_WKT\") for gdf in gdfs]\n",
    "gdf = gdfs[0][[\"TRAM\", \"geometry\"]]\n",
    "for temp_gdf in gdfs:\n",
    "    gdf = gdf.merge(temp_gdf.drop(columns=[\"geometry\"]), on=\"TRAM\")\n",
    "\n",
    "gdf[\"NO2\"] = gdf[\"NO2\"].cat.reorder_categories(\n",
    "    [\n",
    "        \"10-20 µg/m³\",\n",
    "        \"20-30 µg/m³\",\n",
    "        \"30-40 µg/m³\",\n",
    "        \"40-50 µg/m³\",\n",
    "        \"50-60 µg/m³\",\n",
    "        \"60-70 µg/m³\",\n",
    "        \">70 µg/m³\",\n",
    "    ],\n",
    "    ordered=True,\n",
    ")\n",
    "\n",
    "gdf[\"PM2_5\"] = gdf[\"PM2_5\"].cat.reorder_categories(\n",
    "    [\"5-10 µg/m³\", \"10-15 µg/m³\", \"15-20 µg/m³\", \"20-25 µg/m³\", \"25-30 µg/m³\"],\n",
    "    ordered=True,\n",
    ")\n",
    "\n",
    "gdf[\"PM10\"] = gdf[\"PM10\"].cat.reorder_categories(\n",
    "    [\n",
    "        \"<=15 µg/m³\",\n",
    "        \"15-20 µg/m³\",\n",
    "        \"20-25 µg/m³\",\n",
    "        \"25-30 µg/m³\",\n",
    "        \"30-35 µg/m³\",\n",
    "        \"35-40 µg/m³\",\n",
    "        \"> 40 µg/m³\",\n",
    "    ],\n",
    "    ordered=True,\n",
    ")\n",
    "\n",
    "gdf: gpd.GeoDataFrame = gdf.set_crs(epsg=25831).to_crs(epsg=4326)"
   ]
  },
  {
   "cell_type": "code",
   "execution_count": null,
   "metadata": {},
   "outputs": [],
   "source": [
    "loads(gdf.to_json())"
   ]
  },
  {
   "cell_type": "code",
   "execution_count": null,
   "metadata": {},
   "outputs": [],
   "source": [
    "from shapely.ops import linemerge\n",
    "\n",
    "# Group by NO2 and merge geometries\n",
    "merged_gdf = gdf.groupby('NO2', observed=False)['geometry'].apply(func=lambda x: linemerge(x.unary_union)).reset_index()\n",
    "\n",
    "# Convert to GeoDataFrame\n",
    "merged_gdf = gpd.GeoDataFrame(merged_gdf, geometry='geometry')\n",
    "\n",
    "merged_gdf"
   ]
  },
  {
   "cell_type": "code",
   "execution_count": null,
   "metadata": {},
   "outputs": [],
   "source": [
    "lats = []\n",
    "lons = []\n",
    "names = []\n",
    "\n",
    "import shapely.geometry\n",
    "import numpy as np\n",
    "\n",
    "for feature, name in zip(merged_gdf.geometry, merged_gdf[\"NO2\"]):\n",
    "    if isinstance(feature, shapely.geometry.linestring.LineString):\n",
    "        linestrings = [feature]\n",
    "    elif isinstance(feature, shapely.geometry.multilinestring.MultiLineString):\n",
    "        linestrings = feature.geoms\n",
    "    else:\n",
    "        continue\n",
    "    for linestring in linestrings:\n",
    "        x, y = linestring.xy\n",
    "        lats = np.append(lats, y)\n",
    "        lons = np.append(lons, x)\n",
    "        names = np.append(names, [name]*len(y))\n",
    "        lats = np.append(lats, None)\n",
    "        lons = np.append(lons, None)\n",
    "        names = np.append(names, None)\n",
    "\n",
    "fig = px.line_geo(lat=lats, lon=lons, hover_name=names)\n",
    "fig.update_layout(margin={\"r\":0,\"t\":0,\"l\":0,\"b\":0})\n",
    "fig.show()"
   ]
  },
  {
   "cell_type": "code",
   "execution_count": null,
   "metadata": {},
   "outputs": [],
   "source": [
    "geojson"
   ]
  },
  {
   "cell_type": "code",
   "execution_count": null,
   "metadata": {},
   "outputs": [],
   "source": [
    "df"
   ]
  },
  {
   "cell_type": "code",
   "execution_count": null,
   "metadata": {},
   "outputs": [],
   "source": [
    "\n",
    "df = px.data.election()\n",
    "geojson = px.data.election_geojson()\n",
    "\n",
    "fig = px.choropleth_map(df, geojson=geojson, color=\"Bergeron\",\n",
    "                           locations=\"district_id\",\n",
    "                           center={\"lat\": 45.5517, \"lon\": -73.7073},\n",
    "                           map_style=\"carto-positron\", zoom=9)\n",
    "fig.update_layout(margin={\"r\":0,\"t\":0,\"l\":0,\"b\":0})\n",
    "fig.show()"
   ]
  },
  {
   "cell_type": "code",
   "execution_count": null,
   "metadata": {},
   "outputs": [],
   "source": [
    "fig = px.histogram(\n",
    "    gdf.value_counts(\"NO2\").reset_index(),\n",
    "    x=\"NO2\",\n",
    "    y=\"count\",\n",
    "    category_orders={\"NO2\": gdf[\"NO2\"].cat.categories},\n",
    "    title=\"Distribution de la fourchette de valeurs de polluants de 2023 à Barcelone\",\n",
    ")\n",
    "fig = fig.update_layout(\n",
    "    yaxis_title=\"Somme des valeurs de polluants\",\n",
    "    xaxis_title=\"Fourchette de valeurs de polluants, en moyenne annuelle [µg/m3]\",\n",
    ")\n",
    "fig.show()"
   ]
  },
  {
   "cell_type": "code",
   "execution_count": null,
   "metadata": {},
   "outputs": [],
   "source": [
    "px.colors.sequential.Plasma"
   ]
  },
  {
   "cell_type": "code",
   "execution_count": null,
   "metadata": {},
   "outputs": [],
   "source": [
    "gdf[\"PM10\"].cat.reorder_categories(['<=15 µg/m³', '15-20 µg/m³', '20-25 µg/m³', '25-30 µg/m³', '30-35 µg/m³',\n",
    "       '35-40 µg/m³', '> 40 µg/m³'], ordered=True)"
   ]
  },
  {
   "cell_type": "code",
   "execution_count": null,
   "metadata": {},
   "outputs": [],
   "source": [
    "import folium\n",
    "\n",
    "map = folium.Map(\n",
    "    location=list(CENTER_BARCELONA.values()), tiles=\"CartoDB Positron\", zoom_start=12\n",
    ")\n",
    "\n",
    "polluant = \"PM10\"\n",
    "# Define a color map for NO2 levels\n",
    "color_map = dict(zip(gdf[polluant].cat.categories, px.colors.sequential.Plasma_r))\n",
    "\n",
    "def style_function(feature):\n",
    "    return {\n",
    "        'fillColor': color_map.get(feature['properties'][polluant], 'gray'),\n",
    "        'color': color_map.get(feature['properties'][polluant], 'gray'),\n",
    "        'weight': 2,\n",
    "        'fillOpacity': 0.6,\n",
    "    }\n",
    "\n",
    "folium.GeoJson(\n",
    "    gdf.to_json(),\n",
    "    name=\"Air Quality\",\n",
    "    tooltip=folium.GeoJsonTooltip(fields=[\"NO2\", \"PM2_5\", \"PM10\"], aliases=[\"NO2\", \"PM2.5\", \"PM10\"]),\n",
    "    style_function=style_function\n",
    ").add_to(map)\n",
    "\n",
    "# Add legend\n",
    "legend_html = f'''\n",
    "<div style=\"position: fixed; \n",
    "            top: 50px; right: 50px; width: 120px; height: {35 + len(gdf[polluant].cat.categories) * 20}px; \n",
    "            border:2px solid grey; z-index:9999; font-size:14px;\n",
    "            background-color:white;\n",
    "            padding: 5px 10px;\n",
    "            \">\n",
    "    <b>{polluant}</b><br>\n",
    "    {'<br>'.join(f'<i style=\"background:{color_map[cat]}\">&nbsp;&nbsp;&nbsp;&nbsp;</i> {cat}' for cat in gdf[polluant].cat.categories)}<br>\n",
    "</div>\n",
    "'''\n",
    "\n",
    "map.get_root().html.add_child(folium.Element(legend_html))\n",
    "\n",
    "map"
   ]
  },
  {
   "cell_type": "code",
   "execution_count": null,
   "metadata": {},
   "outputs": [],
   "source": [
    "px.histogram(\n",
    "    gdf,\n",
    "    x=\"Rang\",\n",
    "    title=\"Histograma de la qualitat de l'aire a Barcelona\",\n",
    "    labels={\"Rang\": \"Qualitat de l'aire\"},\n",
    "    category_orders={\"Rang\": gdf[\"Rang\"].cat.categories},\n",
    ")"
   ]
  },
  {
   "cell_type": "code",
   "execution_count": null,
   "metadata": {},
   "outputs": [],
   "source": [
    "import plotly.io as pio\n",
    "import dash_mantine_components as dmc\n",
    "\n",
    "dmc.add_figure_templates(default=\"mantine_dark\")\n",
    "\n",
    "type(pio.templates['mantine_dark'])\n",
    "\n",
    "pio"
   ]
  },
  {
   "cell_type": "code",
   "execution_count": null,
   "metadata": {},
   "outputs": [],
   "source": [
    "plt.figure(figsize=(6, 10))\n",
    "gdf.plot(\n",
    "    ax=plt.gca(),\n",
    "    column=\"NO2\",\n",
    "    legend=True\n",
    ")"
   ]
  },
  {
   "cell_type": "code",
   "execution_count": null,
   "metadata": {},
   "outputs": [],
   "source": []
  },
  {
   "cell_type": "markdown",
   "metadata": {},
   "source": [
    "---"
   ]
  },
  {
   "cell_type": "code",
   "execution_count": null,
   "metadata": {},
   "outputs": [],
   "source": [
    "df = pd.concat(\n",
    "    [\n",
    "        pd.read_csv(\n",
    "            filepath_or_buffer=\"./data/noise_monitoring/2023/2023_1S_XarxaSoroll_EqMonitor_Dades_1Hora.csv\",\n",
    "        ),\n",
    "        pd.read_csv(\n",
    "            filepath_or_buffer=\"./data/noise_monitoring/2023/2023_2S_XarxaSoroll_EqMonitor_Dades_1Hora.csv\",\n",
    "        ),\n",
    "    ]\n",
    ")\n",
    "\n",
    "df[\"date\"] = pd.to_datetime(\n",
    "    df[\"Any\"].astype(str)\n",
    "    + \"-\"\n",
    "    + df[\"Mes\"].astype(str)\n",
    "    + \"-\"\n",
    "    + df[\"Dia\"].astype(str)\n",
    "    + \" \"\n",
    "    + df[\"Hora\"].astype(str)\n",
    ")\n",
    "\n",
    "df = df.drop(columns=[\"Any\", \"Mes\", \"Dia\", \"Hora\"])\n",
    "\n",
    "gdf = pd.read_csv(\"./data/noise_monitoring/XarxaSoroll_EquipsMonitor_Instal.csv\")\n",
    "gdf = gdf[gdf[\"Id_Instal\"].isin(df[\"Id_Instal\"].unique())]"
   ]
  },
  {
   "cell_type": "code",
   "execution_count": null,
   "metadata": {},
   "outputs": [],
   "source": [
    "px.line(\n",
    "    df,\n",
    "    x=\"date\",\n",
    "    y=\"Nivell_LAeq_1h\",\n",
    "    color=\"Id_Instal\",\n",
    "    title=\"Nivell de soroll a Barcelona\",\n",
    ")"
   ]
  },
  {
   "cell_type": "code",
   "execution_count": null,
   "metadata": {},
   "outputs": [],
   "source": [
    "fig = px.scatter_mapbox(\n",
    "    gdf,\n",
    "    lat=\"Latitud\",\n",
    "    lon=\"Longitud\",\n",
    "    hover_name=\"Nom_Carrer\",\n",
    "    hover_data=[\"Nom_Barri\", \"Nom_Districte\"],\n",
    "    color=\"Font\",\n",
    "    zoom=10,\n",
    "    height=600\n",
    ")\n",
    "\n",
    "fig.update_layout(mapbox_style=\"open-street-map\")\n",
    "# fig.update_layout(margin={\"r\":0,\"t\":0,\"l\":0,\"b\":0})\n",
    "fig.show()"
   ]
  },
  {
   "cell_type": "code",
   "execution_count": null,
   "metadata": {},
   "outputs": [],
   "source": [
    "fig = px.sunburst(\n",
    "    df.merge(gdf[[\"Id_Instal\", \"Nom_Districte\", \"Font\"]], on=\"Id_Instal\"),\n",
    "    path=[\"Nom_Districte\", \"Font\"],\n",
    "    title=\"Sunburst of noise type in Barcelona by district\",\n",
    ")\n",
    "fig.show()"
   ]
  },
  {
   "cell_type": "code",
   "execution_count": null,
   "metadata": {},
   "outputs": [],
   "source": [
    "px.histogram(\n",
    "    data_frame=df,\n",
    "    x=\"Nivell_LAeq_1h\",\n",
    "    marginal=\"box\",\n",
    "    nbins=250,\n",
    ")"
   ]
  },
  {
   "cell_type": "markdown",
   "metadata": {},
   "source": [
    "---"
   ]
  },
  {
   "cell_type": "code",
   "execution_count": null,
   "metadata": {},
   "outputs": [],
   "source": [
    "df = pd.read_csv(\"./data/district_zone/BarcelonaCiutat_Districtes.csv\")\n",
    "\n",
    "gdf = convert_wkt_to_geometry(df, 'geometria_wgs84')"
   ]
  },
  {
   "cell_type": "code",
   "execution_count": null,
   "metadata": {},
   "outputs": [],
   "source": [
    "fig = px.choropleth_map(\n",
    "    gdf,\n",
    "    geojson=gdf.geometry,\n",
    "    locations=gdf.index,\n",
    "    color=\"nom_districte\",\n",
    "    center=CENTER_BARCELONA,\n",
    "    title=\"Map of Districts in Barcelona\"\n",
    ")\n",
    "\n",
    "fig.show()"
   ]
  }
 ],
 "metadata": {
  "kernelspec": {
   "display_name": "base",
   "language": "python",
   "name": "python3"
  },
  "language_info": {
   "codemirror_mode": {
    "name": "ipython",
    "version": 3
   },
   "file_extension": ".py",
   "mimetype": "text/x-python",
   "name": "python",
   "nbconvert_exporter": "python",
   "pygments_lexer": "ipython3",
   "version": "3.12.3"
  }
 },
 "nbformat": 4,
 "nbformat_minor": 2
}
