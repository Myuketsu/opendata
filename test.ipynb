{
 "cells": [
  {
   "cell_type": "code",
   "execution_count": 1,
   "metadata": {},
   "outputs": [],
   "source": [
    "import pandas as pd\n",
    "import geopandas as gpd\n",
    "from shapely import wkt\n",
    "import plotly.express as px\n",
    "import matplotlib.pyplot as plt\n",
    "\n",
    "CENTER_BARCELONA = {\"lat\": 41.3851, \"lon\": 2.1734}\n",
    "\n",
    "def convert_wkt_to_geometry(df: pd.DataFrame, wkt_column: str) -> gpd.GeoDataFrame:\n",
    "    # Convert the GEOM_WKT column to geometry\n",
    "    df['geometry'] = df[wkt_column].apply(wkt.loads)\n",
    "\n",
    "    # Convert the DataFrame to a GeoDataFrame\n",
    "    return gpd.GeoDataFrame(df.drop(wkt_column, axis='columns'), geometry='geometry')"
   ]
  },
  {
   "cell_type": "code",
   "execution_count": 39,
   "metadata": {},
   "outputs": [],
   "source": [
    "gdf = pd.read_csv('./data/air_quality/2023/2023_tramer_no2_mapa_qualitat_aire_bcn.csv')\n",
    "\n",
    "gdf = convert_wkt_to_geometry(gdf, 'GEOM_WKT')\n",
    "\n",
    "gdf['Rang'] = gdf['Rang'].astype('category')"
   ]
  },
  {
   "cell_type": "code",
   "execution_count": null,
   "metadata": {},
   "outputs": [],
   "source": [
    "px.histogram(\n",
    "    gdf,\n",
    "    x=\"Rang\",\n",
    "    title=\"Histograma de la qualitat de l'aire a Barcelona\",\n",
    "    labels={\"Rang\": \"Qualitat de l'aire\"},\n",
    "    category_orders={\"Rang\": gdf[\"Rang\"].cat.categories},\n",
    ")"
   ]
  },
  {
   "cell_type": "code",
   "execution_count": null,
   "metadata": {},
   "outputs": [],
   "source": [
    "plt.figure(figsize=(6, 10))\n",
    "gdf.plot(\n",
    "    ax=plt.gca(),\n",
    "    column=\"Rang\",\n",
    "    legend=True\n",
    ")"
   ]
  },
  {
   "cell_type": "markdown",
   "metadata": {},
   "source": [
    "---"
   ]
  },
  {
   "cell_type": "code",
   "execution_count": 2,
   "metadata": {},
   "outputs": [],
   "source": [
    "df = pd.concat(\n",
    "    [\n",
    "        pd.read_csv(\n",
    "            filepath_or_buffer=\"./data/noise_monitoring/2023/2023_1S_XarxaSoroll_EqMonitor_Dades_1Hora.csv\",\n",
    "        ),\n",
    "        pd.read_csv(\n",
    "            filepath_or_buffer=\"./data/noise_monitoring/2023/2023_2S_XarxaSoroll_EqMonitor_Dades_1Hora.csv\",\n",
    "        ),\n",
    "    ]\n",
    ")\n",
    "\n",
    "df[\"date\"] = pd.to_datetime(\n",
    "    df[\"Any\"].astype(str)\n",
    "    + \"-\"\n",
    "    + df[\"Mes\"].astype(str)\n",
    "    + \"-\"\n",
    "    + df[\"Dia\"].astype(str)\n",
    "    + \" \"\n",
    "    + df[\"Hora\"].astype(str)\n",
    ")\n",
    "\n",
    "df = df.drop(columns=[\"Any\", \"Mes\", \"Dia\", \"Hora\"])\n",
    "\n",
    "gdf = pd.read_csv(\"./data/noise_monitoring/XarxaSoroll_EquipsMonitor_Instal.csv\")\n",
    "gdf = gdf[gdf[\"Id_Instal\"].isin(df[\"Id_Instal\"].unique())]"
   ]
  },
  {
   "cell_type": "code",
   "execution_count": null,
   "metadata": {},
   "outputs": [],
   "source": [
    "px.line(\n",
    "    df,\n",
    "    x=\"date\",\n",
    "    y=\"Nivell_LAeq_1h\",\n",
    "    color=\"Id_Instal\",\n",
    "    title=\"Nivell de soroll a Barcelona\",\n",
    ")"
   ]
  },
  {
   "cell_type": "code",
   "execution_count": null,
   "metadata": {},
   "outputs": [],
   "source": [
    "fig = px.scatter_mapbox(\n",
    "    gdf,\n",
    "    lat=\"Latitud\",\n",
    "    lon=\"Longitud\",\n",
    "    hover_name=\"Nom_Carrer\",\n",
    "    hover_data=[\"Nom_Barri\", \"Nom_Districte\"],\n",
    "    color=\"Font\",\n",
    "    zoom=10,\n",
    "    height=600\n",
    ")\n",
    "\n",
    "fig.update_layout(mapbox_style=\"open-street-map\")\n",
    "# fig.update_layout(margin={\"r\":0,\"t\":0,\"l\":0,\"b\":0})\n",
    "fig.show()"
   ]
  },
  {
   "cell_type": "code",
   "execution_count": null,
   "metadata": {},
   "outputs": [],
   "source": [
    "fig = px.sunburst(\n",
    "    df.merge(gdf[[\"Id_Instal\", \"Nom_Districte\", \"Font\"]], on=\"Id_Instal\"),\n",
    "    path=[\"Nom_Districte\", \"Font\"],\n",
    "    title=\"Sunburst of noise type in Barcelona by district\",\n",
    ")\n",
    "fig.show()"
   ]
  },
  {
   "cell_type": "code",
   "execution_count": null,
   "metadata": {},
   "outputs": [],
   "source": [
    "px.histogram(\n",
    "    data_frame=df,\n",
    "    x=\"Nivell_LAeq_1h\",\n",
    "    marginal=\"box\",\n",
    "    nbins=250,\n",
    ")"
   ]
  },
  {
   "cell_type": "markdown",
   "metadata": {},
   "source": [
    "---"
   ]
  },
  {
   "cell_type": "code",
   "execution_count": 6,
   "metadata": {},
   "outputs": [],
   "source": [
    "df = pd.read_csv(\"./data/district_zone/BarcelonaCiutat_Districtes.csv\")\n",
    "\n",
    "gdf = convert_wkt_to_geometry(df, 'geometria_wgs84')"
   ]
  },
  {
   "cell_type": "code",
   "execution_count": null,
   "metadata": {},
   "outputs": [],
   "source": [
    "fig = px.choropleth_map(\n",
    "    gdf,\n",
    "    geojson=gdf.geometry,\n",
    "    locations=gdf.index,\n",
    "    color=\"nom_districte\",\n",
    "    center=CENTER_BARCELONA,\n",
    "    title=\"Map of Districts in Barcelona\"\n",
    ")\n",
    "\n",
    "fig.show()"
   ]
  }
 ],
 "metadata": {
  "kernelspec": {
   "display_name": "base",
   "language": "python",
   "name": "python3"
  },
  "language_info": {
   "codemirror_mode": {
    "name": "ipython",
    "version": 3
   },
   "file_extension": ".py",
   "mimetype": "text/x-python",
   "name": "python",
   "nbconvert_exporter": "python",
   "pygments_lexer": "ipython3",
   "version": "3.12.3"
  }
 },
 "nbformat": 4,
 "nbformat_minor": 2
}
