{
 "cells": [
  {
   "cell_type": "code",
   "execution_count": 133,
   "metadata": {},
   "outputs": [],
   "source": [
    "import pandas as pd\n",
    "import geopandas as gpd\n",
    "from shapely import wkt\n",
    "import plotly.express as px\n",
    "import plotly.graph_objects as go\n",
    "import json\n",
    "\n",
    "CENTER_BARCELONA = {\"lat\": 41.3851, \"lon\": 2.1734}\n",
    "\n",
    "\n",
    "def convert_wkt_to_geometry(df: pd.DataFrame, wkt_column: str) -> gpd.GeoDataFrame:\n",
    "    # Convert the GEOM_WKT column to geometry\n",
    "    df[\"geometry\"] = df[wkt_column].apply(wkt.loads)\n",
    "\n",
    "    # Convert the DataFrame to a GeoDataFrame\n",
    "    return gpd.GeoDataFrame(df.drop(wkt_column, axis=\"columns\"), geometry=\"geometry\")"
   ]
  },
  {
   "cell_type": "code",
   "execution_count": 134,
   "metadata": {},
   "outputs": [],
   "source": [
    "vage_df = pd.read_csv(\"data/age_of_vehicle/2023/2023_Antiguitat_tipus_vehicle.csv\")\n",
    "\n",
    "# vage_df['Nom_Districte'] = vage_df['Nom_Districte'].replace('Sants-MontjuÃ¯c', 'Sants-Montjuïc')\n",
    "# vage_df['Nom_Districte'] = vage_df['Nom_Districte'].replace('SarriÃ -St. Gervasi', 'Sarrià-Sant Gervasi')\n",
    "# vage_df['Nom_Districte'] = vage_df['Nom_Districte'].replace('GrÃ cia', 'Gràcia')\n",
    "# vage_df['Nom_Districte'] = vage_df['Nom_Districte'].replace('Horta-GuinardÃ³', 'Horta-Guinardó')\n",
    "# vage_df['Nom_Districte'] = vage_df['Nom_Districte'].replace('Sant MartÃ­', 'Sant Martí')\n",
    "\n",
    "# vage_df.to_csv('data/age_of_vehicle/2023/2023_Antiguitat_tipus_vehicle.csv', index=False)"
   ]
  },
  {
   "cell_type": "code",
   "execution_count": 135,
   "metadata": {},
   "outputs": [],
   "source": [
    "total_vehicles_per_district = (\n",
    "    vage_df.groupby([\"Nom_Districte\"]).Nombre.sum().reset_index()\n",
    ")\n",
    "total_vehicles_per_district.columns = [\"Nom_Districte\", \"Total_Vehicles\"]\n",
    "\n",
    "old_vehicles_per_district = (\n",
    "    vage_df[vage_df.Antiguitat == \"MÃ©s de 20 anys\"]\n",
    "    .groupby([\"Nom_Districte\"])\n",
    "    .Nombre.sum()\n",
    "    .reset_index()\n",
    ")\n",
    "\n",
    "old_vehicles_per_district.columns = [\"Nom_Districte\", \"Vehicles_20_Any\"]"
   ]
  },
  {
   "cell_type": "code",
   "execution_count": 136,
   "metadata": {},
   "outputs": [],
   "source": [
    "merged = total_vehicles_per_district.merge(\n",
    "    old_vehicles_per_district, on=\"Nom_Districte\", how=\"left\"\n",
    ")\n",
    "merged[\"Percentage\"] = (merged[\"Vehicles_20_Any\"] / merged[\"Total_Vehicles\"]) * 100\n",
    "merged[\"Percentage\"] = merged[\"Percentage\"].map(\"{:,.2f}\".format)\n",
    "merged = merged[merged.Nom_Districte != \"No consta\"]\n",
    "merged[\"Percentage\"] = merged[\"Percentage\"].astype(float)"
   ]
  },
  {
   "cell_type": "code",
   "execution_count": 137,
   "metadata": {},
   "outputs": [],
   "source": [
    "district_df = pd.read_csv(\"./data/district_zone/BarcelonaCiutat_Districtes.csv\")\n",
    "\n",
    "gdf = convert_wkt_to_geometry(district_df, \"geometria_wgs84\")\n",
    "gdf = gdf.rename(columns={\"nom_districte\": \"Nom_Districte\"})\n",
    "\n",
    "gdf_age = gdf.merge(merged, on=\"Nom_Districte\", how=\"left\")\n",
    "gdf_age_json = json.loads(gdf_age.to_json())"
   ]
  },
  {
   "cell_type": "code",
   "execution_count": null,
   "metadata": {},
   "outputs": [],
   "source": [
    "gdf_age.Vehicles_20_Any.sum() / gdf_age.Total_Vehicles.sum() * 100"
   ]
  },
  {
   "cell_type": "code",
   "execution_count": 139,
   "metadata": {},
   "outputs": [],
   "source": [
    "# fig = px.choropleth_mapbox(\n",
    "#     gdf_merged,\n",
    "#     geojson=gdf_merged,\n",
    "#     locations=gdf_merged.index,\n",
    "#     color=\"Percentage\",\n",
    "#     color_continuous_scale=\"OrRd\",\n",
    "#     mapbox_style=\"carto-positron\",\n",
    "#     center=CENTER_BARCELONA,\n",
    "#     zoom=10,\n",
    "#     hover_name=\"Nom_Districte\",\n",
    "#     hover_data={\n",
    "#         \"Percentage\": True,\n",
    "#     },\n",
    "#     title=\"Percentage of vehicles older than 20 years per district\",\n",
    "# )\n",
    "\n",
    "# fig.update_layout(margin={\"r\":0,\"t\":40,\"l\":0,\"b\":0})\n",
    "\n",
    "# fig.show()"
   ]
  },
  {
   "cell_type": "code",
   "execution_count": null,
   "metadata": {},
   "outputs": [],
   "source": [
    "fig = go.Figure(\n",
    "    go.Choroplethmapbox(\n",
    "        geojson=gdf_age_json,\n",
    "        locations=gdf_age.index,\n",
    "        z=gdf_age[\"Percentage\"].astype(float),\n",
    "        colorscale=\"OrRd\",\n",
    "        marker_opacity=0.7,\n",
    "        marker_line_width=0.5,\n",
    "        colorbar_title=\"Pourcentage (%)\",\n",
    "        text=gdf_age[\"Nom_Districte\"]\n",
    "        + \"<br>Pourcentage: \"\n",
    "        + gdf_age[\"Percentage\"].astype(str)\n",
    "        + \"%\",\n",
    "    )\n",
    ")\n",
    "\n",
    "fig.update_layout(\n",
    "    title_text=\"Pourcentage de véhicules de plus de 20 ans par district\",\n",
    "    mapbox_zoom=10,\n",
    "    mapbox_center=CENTER_BARCELONA,\n",
    "    margin={\"r\": 0, \"t\": 40, \"l\": 0, \"b\": 0},\n",
    "    mapbox_style=\"carto-positron\"\n",
    ")\n",
    "\n",
    "fig.update_layout(\n",
    "    mapbox_style=\"carto-darkmatter\",\n",
    "    paper_bgcolor=\"black\",\n",
    "    plot_bgcolor=\"black\",\n",
    "    font=dict(color=\"white\")  \n",
    ")\n",
    "\n",
    "fig.show()"
   ]
  },
  {
   "cell_type": "markdown",
   "metadata": {},
   "source": [
    "---"
   ]
  },
  {
   "cell_type": "code",
   "execution_count": 141,
   "metadata": {},
   "outputs": [],
   "source": [
    "pop_df = pd.read_csv(\"data/population/2023/2023_pad_mdbas.csv\")\n",
    "\n",
    "# pop_df['Nom_Districte'] = pop_df['Nom_Districte'].replace('Sants-MontjuÃ¯c', 'Sants-Montjuïc')\n",
    "# pop_df['Nom_Districte'] = pop_df['Nom_Districte'].replace('SarriÃ -Sant Gervasi', 'Sarrià-Sant Gervasi')\n",
    "# pop_df['Nom_Districte'] = pop_df['Nom_Districte'].replace('GrÃ cia', 'Gràcia')\n",
    "# pop_df['Nom_Districte'] = pop_df['Nom_Districte'].replace('Horta-GuinardÃ³', 'Horta-Guinardó')\n",
    "# pop_df['Nom_Districte'] = pop_df['Nom_Districte'].replace('Sant MartÃ­', 'Sant Martí')\n",
    "\n",
    "# pop_df.to_csv('data/population/2023/2023_pad_mdbas.csv', index=False)"
   ]
  },
  {
   "cell_type": "code",
   "execution_count": 142,
   "metadata": {},
   "outputs": [],
   "source": [
    "pop_per_district = pop_df.groupby([\"Nom_Districte\"]).Valor.sum().reset_index()\n",
    "pop_per_district.columns = [\"Nom_Districte\", \"Population\"]"
   ]
  },
  {
   "cell_type": "code",
   "execution_count": 143,
   "metadata": {},
   "outputs": [],
   "source": [
    "vtype_df = pd.read_csv(\n",
    "    \"data/type_of_vehicle/2023/2023_Parc_vehicles_tipus_propulsio.csv\"\n",
    ")\n",
    "\n",
    "# vtype_df['Nom_Districte'] = vtype_df['Nom_Districte'].replace('Sants-MontjuÃ¯c', 'Sants-Montjuïc')\n",
    "# vtype_df['Nom_Districte'] = vtype_df['Nom_Districte'].replace('SarriÃ -St. Gervasi', 'Sarrià-Sant Gervasi')\n",
    "# vtype_df['Nom_Districte'] = vtype_df['Nom_Districte'].replace('GrÃ cia', 'Gràcia')\n",
    "# vtype_df['Nom_Districte'] = vtype_df['Nom_Districte'].replace('Horta-GuinardÃ³', 'Horta-Guinardó')\n",
    "# vtype_df['Nom_Districte'] = vtype_df['Nom_Districte'].replace('Sant MartÃ­', 'Sant Martí')\n",
    "# vtype_df['Tipus_Propulsio'] = vtype_df['Tipus_Propulsio'].replace('ElÃ¨ctrica', 'Elèctrica')\n",
    "# df['Tipus_Propulsio'] = vtype_df['Tipus_Propulsio'].replace('HÃ­brid', 'Híbrid')\n",
    "\n",
    "# vtype_df.to_csv('data/type_of_vehicle/2023/2023_Parc_vehicles_tipus_propulsio.csv', index=False)"
   ]
  },
  {
   "cell_type": "code",
   "execution_count": 144,
   "metadata": {},
   "outputs": [],
   "source": [
    "vehuicles_per_district = vtype_df.groupby([\"Nom_Districte\"]).Nombre.sum().reset_index()\n",
    "vehuicles_per_district.columns = [\"Nom_Districte\", \"Total_Vehicles\"]"
   ]
  },
  {
   "cell_type": "code",
   "execution_count": 145,
   "metadata": {},
   "outputs": [],
   "source": [
    "merged = vehuicles_per_district.merge(pop_per_district, on=\"Nom_Districte\", how=\"left\")\n",
    "merged[\"Vehicles_Per_100\"] = (merged[\"Total_Vehicles\"] / merged[\"Population\"]) * 100\n",
    "merged = merged[merged.Nom_Districte != \"No consta\"]\n",
    "merged[\"Vehicles_Per_100\"] = merged[\"Vehicles_Per_100\"].map(\"{:,.2f}\".format)"
   ]
  },
  {
   "cell_type": "code",
   "execution_count": null,
   "metadata": {},
   "outputs": [],
   "source": [
    "gdf_merged = gdf.merge(merged, on=\"Nom_Districte\", how=\"left\")\n",
    "\n",
    "geojson = json.loads(gdf_merged.to_json())\n",
    "\n",
    "fig = go.Figure(\n",
    "    go.Choroplethmapbox(\n",
    "        geojson=geojson,\n",
    "        locations=gdf_merged.index,\n",
    "        z=gdf_merged[\"Vehicles_Per_100\"].astype(float),\n",
    "        colorscale=\"OrRd\",\n",
    "        marker_opacity=0.7,\n",
    "        marker_line_width=0.5,\n",
    "        colorbar_title=\"Vehicles Per 100 habitants (%)\",\n",
    "        text=gdf_merged[\"Nom_Districte\"]\n",
    "        + \"<br>Vehicles Per 100: \"\n",
    "        + gdf_merged[\"Vehicles_Per_100\"].astype(str)\n",
    "        + \"‰\",\n",
    "    )\n",
    ")\n",
    "\n",
    "fig.update_layout(\n",
    "    title_text=\"Vehicles Per 100 habitant per district\",\n",
    "    mapbox_style=\"carto-positron\",\n",
    "    mapbox_zoom=10,\n",
    "    mapbox_center=CENTER_BARCELONA,\n",
    "    margin={\"r\": 0, \"t\": 40, \"l\": 0, \"b\": 0},\n",
    ")\n",
    "\n",
    "fig.show()"
   ]
  },
  {
   "cell_type": "markdown",
   "metadata": {},
   "source": [
    "---"
   ]
  },
  {
   "cell_type": "code",
   "execution_count": 147,
   "metadata": {},
   "outputs": [],
   "source": [
    "# number of electric or hybrid vehicles per district\n",
    "green_vehicles_per_district = (\n",
    "    vtype_df[\n",
    "        (vtype_df.Tipus_Propulsio == \"Elèctrica\")\n",
    "        | (vtype_df.Tipus_Propulsio == \"Híbrid\")\n",
    "    ]\n",
    "    .groupby([\"Nom_Districte\"])\n",
    "    .Nombre.sum()\n",
    "    .reset_index()\n",
    ")\n",
    "green_vehicles_per_district.columns = [\"Nom_Districte\", \"Green_Vehicles\"]"
   ]
  },
  {
   "cell_type": "code",
   "execution_count": 148,
   "metadata": {},
   "outputs": [],
   "source": [
    "merged = vehuicles_per_district.merge(\n",
    "    green_vehicles_per_district, on=\"Nom_Districte\", how=\"left\"\n",
    ")\n",
    "merged[\"Percentage\"] = (merged[\"Green_Vehicles\"] / merged[\"Total_Vehicles\"]) * 100\n",
    "merged[\"Percentage\"] = merged[\"Percentage\"].map(\"{:,.2f}\".format)"
   ]
  },
  {
   "cell_type": "code",
   "execution_count": null,
   "metadata": {},
   "outputs": [],
   "source": [
    "gdf_type = gdf.merge(merged, on=\"Nom_Districte\", how=\"left\")\n",
    "\n",
    "gdf_type_json = json.loads(gdf_type.to_json())\n",
    "\n",
    "fig = go.Figure(\n",
    "    go.Choroplethmapbox(\n",
    "        geojson=gdf_type_json,\n",
    "        locations=gdf_type.index,\n",
    "        z=gdf_type[\"Percentage\"].astype(float),\n",
    "        colorscale=\"greens\",\n",
    "        marker_opacity=0.7,\n",
    "        marker_line_width=0.5,\n",
    "        colorbar_title=\"Percentage (%)\",\n",
    "        text=gdf_type[\"Nom_Districte\"]\n",
    "        + \"<br>Percentage: \"\n",
    "        + gdf_type[\"Percentage\"].astype(str)\n",
    "        + \"%\",\n",
    "    )\n",
    ")\n",
    "\n",
    "fig.update_layout(\n",
    "    title_text=\"Percentage of green vehicles per district\",\n",
    "    mapbox_style=\"carto-positron\",\n",
    "    mapbox_zoom=10.5,\n",
    "    mapbox_center=CENTER_BARCELONA,\n",
    "    margin={\"r\": 0, \"t\": 40, \"l\": 0, \"b\": 0},\n",
    ")\n",
    "\n",
    "fig.show()"
   ]
  },
  {
   "cell_type": "code",
   "execution_count": 150,
   "metadata": {},
   "outputs": [],
   "source": [
    "# Unitats administratives de la ciutat de Barcelona"
   ]
  },
  {
   "cell_type": "code",
   "execution_count": 151,
   "metadata": {},
   "outputs": [],
   "source": [
    "gdf_age = gdf_age.rename(columns={\"Percentage\": \"Age_Percentage\"})\n",
    "gdf_type = gdf_type.rename(columns={\"Percentage\": \"Green_Percentage\"})"
   ]
  },
  {
   "cell_type": "code",
   "execution_count": 152,
   "metadata": {},
   "outputs": [],
   "source": [
    "gdf_kmean = gdf_age.merge(gdf_type, on=\"Nom_Districte\", how=\"left\")\n",
    "gdf_kmean = gdf_kmean[[\"Nom_Districte\", \"Age_Percentage\", \"Green_Percentage\"]]\n"
   ]
  },
  {
   "cell_type": "code",
   "execution_count": 153,
   "metadata": {},
   "outputs": [],
   "source": [
    "# K-means clustering with k = 3\n",
    "from sklearn.cluster import KMeans\n",
    "\n",
    "kmeans = KMeans(n_clusters=3, random_state=0).fit(gdf_kmean[[\"Age_Percentage\", \"Green_Percentage\"]])\n",
    "\n",
    "gdf_kmean[\"Cluster\"] = kmeans.labels_\n",
    "\n",
    "# Merge cluster data\n",
    "gdf_kmean = gdf.merge(gdf_kmean, on=\"Nom_Districte\", how=\"left\")\n",
    "\n",
    "# Convert to JSON\n",
    "gdf_kmean_json = json.loads(gdf_kmean.to_json())"
   ]
  },
  {
   "cell_type": "code",
   "execution_count": null,
   "metadata": {},
   "outputs": [],
   "source": [
    "cluster_colors = {\n",
    "    \"0\": \"#1f77b4\",  \n",
    "    \"1\": \"#ff7f0e\",  \n",
    "    \"2\": \"#2ca02c\",  \n",
    "}\n",
    "\n",
    "gdf_kmean[\"Cluster\"] = gdf_kmean[\"Cluster\"].astype(str)\n",
    "\n",
    "gdf_kmean[\"Color\"] = gdf_kmean[\"Cluster\"].map(cluster_colors)\n",
    "\n",
    "fig = go.Figure()\n",
    "\n",
    "for cluster, color in cluster_colors.items():\n",
    "    cluster_data = gdf_kmean[gdf_kmean[\"Cluster\"] == cluster]\n",
    "\n",
    "    fig.add_trace(\n",
    "        go.Choroplethmapbox(\n",
    "            geojson=gdf_kmean_json,\n",
    "            locations=cluster_data.index,\n",
    "            z=[int(cluster)] * len(cluster_data),\n",
    "            colorscale=[[0, color], [1, color]],\n",
    "            marker_opacity=0.7,\n",
    "            marker_line_width=0.5,\n",
    "            showscale=False,\n",
    "        )\n",
    "    )\n",
    "\n",
    "for cluster, color in cluster_colors.items():\n",
    "    fig.add_trace(\n",
    "        go.Scattermapbox(\n",
    "            lat=[None], \n",
    "            lon=[None],  \n",
    "            mode=\"markers\",\n",
    "            marker=dict(size=15, color=color),\n",
    "            name=f\"Cluster {cluster}\",\n",
    "        )\n",
    "    )\n",
    "\n",
    "fig.update_layout(\n",
    "    title_text=\"K-means clustering des districts\",\n",
    "    mapbox_style=\"carto-positron\",\n",
    "    mapbox_zoom=10.5,\n",
    "    mapbox_center=CENTER_BARCELONA,\n",
    "    margin={\"r\": 0, \"t\": 40, \"l\": 0, \"b\": 0},\n",
    "    legend=dict(title=\"Clusters\"),\n",
    ")\n",
    "\n",
    "fig.show()\n"
   ]
  },
  {
   "cell_type": "code",
   "execution_count": 202,
   "metadata": {},
   "outputs": [],
   "source": [
    "vage_df = pd.read_csv(\"data/age_of_vehicle/2023/2023_Antiguitat_tipus_vehicle.csv\")"
   ]
  },
  {
   "cell_type": "code",
   "execution_count": 203,
   "metadata": {},
   "outputs": [],
   "source": [
    "vage_df[\"Antiguitat\"] = vage_df[\"Antiguitat\"].replace(\"Menys d'un any d'antiguitat\", \"Moins d'un an\")\n",
    "vage_df[\"Antiguitat\"] = vage_df[\"Antiguitat\"].replace(\"D'11 a 20 anys\", \"De 11 a 20 ans\")\n",
    "vage_df[\"Antiguitat\"] = vage_df[\"Antiguitat\"].replace(\"MÃ©s de 20 anys\", \"Plus de 20 ans\")\n",
    "vage_df[\"Antiguitat\"] = vage_df[\"Antiguitat\"].replace(\"No consta\", \"Non spécifié\")\n",
    "vage_df[\"Antiguitat\"] = vage_df[\"Antiguitat\"].replace(\"1 any\", \"1 an\")\n",
    "vage_df[\"Antiguitat\"] = vage_df[\"Antiguitat\"].replace(\"2 anys\", \"2 ans\")\n",
    "vage_df[\"Antiguitat\"] = vage_df[\"Antiguitat\"].replace(\"3 anys\", \"3 ans\")\n",
    "vage_df[\"Antiguitat\"] = vage_df[\"Antiguitat\"].replace(\"4 anys\", \"4 ans\")\n",
    "vage_df[\"Antiguitat\"] = vage_df[\"Antiguitat\"].replace(\"5 anys\", \"5 ans\")\n",
    "vage_df[\"Antiguitat\"] = vage_df[\"Antiguitat\"].replace(\"6 anys\", \"6 ans\")\n",
    "vage_df[\"Antiguitat\"] = vage_df[\"Antiguitat\"].replace(\"7 anys\", \"7 ans\")\n",
    "vage_df[\"Antiguitat\"] = vage_df[\"Antiguitat\"].replace(\"8 anys\", \"8 ans\")\n",
    "vage_df[\"Antiguitat\"] = vage_df[\"Antiguitat\"].replace(\"9 anys\", \"9 ans\")\n",
    "vage_df[\"Antiguitat\"] = vage_df[\"Antiguitat\"].replace(\"10 anys\", \"10 ans\")\n",
    "vage_df = vage_df[vage_df.Antiguitat != \"Non spécifié\"]\n",
    "\n",
    "vage_df.to_csv('data/age_of_vehicle/2023/2023_Antiguitat_tipus_vehicle2.csv', index=False)"
   ]
  },
  {
   "cell_type": "code",
   "execution_count": 204,
   "metadata": {},
   "outputs": [
    {
     "name": "stdout",
     "output_type": "stream",
     "text": [
      "[\"Moins d'un an\" '1 an' '2 ans' '3 ans' '4 ans' '5 ans' '6 ans' '7 ans'\n",
      " '8 ans' '9 ans' '10 ans' 'De 11 a 20 ans' 'Plus de 20 ans']\n"
     ]
    }
   ],
   "source": [
    "print(vage_df.Antiguitat.unique())"
   ]
  },
  {
   "cell_type": "code",
   "execution_count": 205,
   "metadata": {},
   "outputs": [],
   "source": [
    "df_grouped = vage_df[['Antiguitat', 'Nombre']].groupby(\"Antiguitat\", as_index=False).sum()"
   ]
  },
  {
   "cell_type": "code",
   "execution_count": 206,
   "metadata": {},
   "outputs": [
    {
     "data": {
      "application/vnd.plotly.v1+json": {
       "config": {
        "plotlyServerURL": "https://plot.ly"
       },
       "data": [
        {
         "domain": {
          "x": [
           0,
           1
          ],
          "y": [
           0,
           1
          ]
         },
         "hovertemplate": "Antiguitat=%{label}<br>Nombre=%{value}<extra></extra>",
         "labels": [
          "1 an",
          "10 ans",
          "2 ans",
          "3 ans",
          "4 ans",
          "5 ans",
          "6 ans",
          "7 ans",
          "8 ans",
          "9 ans",
          "De 11 a 20 ans",
          "Moins d'un an",
          "Plus de 20 ans"
         ],
         "legendgroup": "",
         "name": "",
         "showlegend": true,
         "textinfo": "percent+label",
         "type": "pie",
         "values": [
          33552,
          22629,
          33591,
          40091,
          49215,
          46057,
          43685,
          39550,
          34917,
          27762,
          283212,
          38902,
          122662
         ]
        }
       ],
       "layout": {
        "legend": {
         "tracegroupgap": 0
        },
        "piecolorway": [
         "rgb(255,245,240)",
         "rgb(254,224,210)",
         "rgb(252,187,161)",
         "rgb(252,146,114)",
         "rgb(251,106,74)",
         "rgb(239,59,44)",
         "rgb(203,24,29)",
         "rgb(165,15,21)",
         "rgb(103,0,13)"
        ],
        "template": {
         "data": {
          "bar": [
           {
            "error_x": {
             "color": "#2a3f5f"
            },
            "error_y": {
             "color": "#2a3f5f"
            },
            "marker": {
             "line": {
              "color": "#E5ECF6",
              "width": 0.5
             },
             "pattern": {
              "fillmode": "overlay",
              "size": 10,
              "solidity": 0.2
             }
            },
            "type": "bar"
           }
          ],
          "barpolar": [
           {
            "marker": {
             "line": {
              "color": "#E5ECF6",
              "width": 0.5
             },
             "pattern": {
              "fillmode": "overlay",
              "size": 10,
              "solidity": 0.2
             }
            },
            "type": "barpolar"
           }
          ],
          "carpet": [
           {
            "aaxis": {
             "endlinecolor": "#2a3f5f",
             "gridcolor": "white",
             "linecolor": "white",
             "minorgridcolor": "white",
             "startlinecolor": "#2a3f5f"
            },
            "baxis": {
             "endlinecolor": "#2a3f5f",
             "gridcolor": "white",
             "linecolor": "white",
             "minorgridcolor": "white",
             "startlinecolor": "#2a3f5f"
            },
            "type": "carpet"
           }
          ],
          "choropleth": [
           {
            "colorbar": {
             "outlinewidth": 0,
             "ticks": ""
            },
            "type": "choropleth"
           }
          ],
          "contour": [
           {
            "colorbar": {
             "outlinewidth": 0,
             "ticks": ""
            },
            "colorscale": [
             [
              0,
              "#0d0887"
             ],
             [
              0.1111111111111111,
              "#46039f"
             ],
             [
              0.2222222222222222,
              "#7201a8"
             ],
             [
              0.3333333333333333,
              "#9c179e"
             ],
             [
              0.4444444444444444,
              "#bd3786"
             ],
             [
              0.5555555555555556,
              "#d8576b"
             ],
             [
              0.6666666666666666,
              "#ed7953"
             ],
             [
              0.7777777777777778,
              "#fb9f3a"
             ],
             [
              0.8888888888888888,
              "#fdca26"
             ],
             [
              1,
              "#f0f921"
             ]
            ],
            "type": "contour"
           }
          ],
          "contourcarpet": [
           {
            "colorbar": {
             "outlinewidth": 0,
             "ticks": ""
            },
            "type": "contourcarpet"
           }
          ],
          "heatmap": [
           {
            "colorbar": {
             "outlinewidth": 0,
             "ticks": ""
            },
            "colorscale": [
             [
              0,
              "#0d0887"
             ],
             [
              0.1111111111111111,
              "#46039f"
             ],
             [
              0.2222222222222222,
              "#7201a8"
             ],
             [
              0.3333333333333333,
              "#9c179e"
             ],
             [
              0.4444444444444444,
              "#bd3786"
             ],
             [
              0.5555555555555556,
              "#d8576b"
             ],
             [
              0.6666666666666666,
              "#ed7953"
             ],
             [
              0.7777777777777778,
              "#fb9f3a"
             ],
             [
              0.8888888888888888,
              "#fdca26"
             ],
             [
              1,
              "#f0f921"
             ]
            ],
            "type": "heatmap"
           }
          ],
          "heatmapgl": [
           {
            "colorbar": {
             "outlinewidth": 0,
             "ticks": ""
            },
            "colorscale": [
             [
              0,
              "#0d0887"
             ],
             [
              0.1111111111111111,
              "#46039f"
             ],
             [
              0.2222222222222222,
              "#7201a8"
             ],
             [
              0.3333333333333333,
              "#9c179e"
             ],
             [
              0.4444444444444444,
              "#bd3786"
             ],
             [
              0.5555555555555556,
              "#d8576b"
             ],
             [
              0.6666666666666666,
              "#ed7953"
             ],
             [
              0.7777777777777778,
              "#fb9f3a"
             ],
             [
              0.8888888888888888,
              "#fdca26"
             ],
             [
              1,
              "#f0f921"
             ]
            ],
            "type": "heatmapgl"
           }
          ],
          "histogram": [
           {
            "marker": {
             "pattern": {
              "fillmode": "overlay",
              "size": 10,
              "solidity": 0.2
             }
            },
            "type": "histogram"
           }
          ],
          "histogram2d": [
           {
            "colorbar": {
             "outlinewidth": 0,
             "ticks": ""
            },
            "colorscale": [
             [
              0,
              "#0d0887"
             ],
             [
              0.1111111111111111,
              "#46039f"
             ],
             [
              0.2222222222222222,
              "#7201a8"
             ],
             [
              0.3333333333333333,
              "#9c179e"
             ],
             [
              0.4444444444444444,
              "#bd3786"
             ],
             [
              0.5555555555555556,
              "#d8576b"
             ],
             [
              0.6666666666666666,
              "#ed7953"
             ],
             [
              0.7777777777777778,
              "#fb9f3a"
             ],
             [
              0.8888888888888888,
              "#fdca26"
             ],
             [
              1,
              "#f0f921"
             ]
            ],
            "type": "histogram2d"
           }
          ],
          "histogram2dcontour": [
           {
            "colorbar": {
             "outlinewidth": 0,
             "ticks": ""
            },
            "colorscale": [
             [
              0,
              "#0d0887"
             ],
             [
              0.1111111111111111,
              "#46039f"
             ],
             [
              0.2222222222222222,
              "#7201a8"
             ],
             [
              0.3333333333333333,
              "#9c179e"
             ],
             [
              0.4444444444444444,
              "#bd3786"
             ],
             [
              0.5555555555555556,
              "#d8576b"
             ],
             [
              0.6666666666666666,
              "#ed7953"
             ],
             [
              0.7777777777777778,
              "#fb9f3a"
             ],
             [
              0.8888888888888888,
              "#fdca26"
             ],
             [
              1,
              "#f0f921"
             ]
            ],
            "type": "histogram2dcontour"
           }
          ],
          "mesh3d": [
           {
            "colorbar": {
             "outlinewidth": 0,
             "ticks": ""
            },
            "type": "mesh3d"
           }
          ],
          "parcoords": [
           {
            "line": {
             "colorbar": {
              "outlinewidth": 0,
              "ticks": ""
             }
            },
            "type": "parcoords"
           }
          ],
          "pie": [
           {
            "automargin": true,
            "type": "pie"
           }
          ],
          "scatter": [
           {
            "fillpattern": {
             "fillmode": "overlay",
             "size": 10,
             "solidity": 0.2
            },
            "type": "scatter"
           }
          ],
          "scatter3d": [
           {
            "line": {
             "colorbar": {
              "outlinewidth": 0,
              "ticks": ""
             }
            },
            "marker": {
             "colorbar": {
              "outlinewidth": 0,
              "ticks": ""
             }
            },
            "type": "scatter3d"
           }
          ],
          "scattercarpet": [
           {
            "marker": {
             "colorbar": {
              "outlinewidth": 0,
              "ticks": ""
             }
            },
            "type": "scattercarpet"
           }
          ],
          "scattergeo": [
           {
            "marker": {
             "colorbar": {
              "outlinewidth": 0,
              "ticks": ""
             }
            },
            "type": "scattergeo"
           }
          ],
          "scattergl": [
           {
            "marker": {
             "colorbar": {
              "outlinewidth": 0,
              "ticks": ""
             }
            },
            "type": "scattergl"
           }
          ],
          "scattermapbox": [
           {
            "marker": {
             "colorbar": {
              "outlinewidth": 0,
              "ticks": ""
             }
            },
            "type": "scattermapbox"
           }
          ],
          "scatterpolar": [
           {
            "marker": {
             "colorbar": {
              "outlinewidth": 0,
              "ticks": ""
             }
            },
            "type": "scatterpolar"
           }
          ],
          "scatterpolargl": [
           {
            "marker": {
             "colorbar": {
              "outlinewidth": 0,
              "ticks": ""
             }
            },
            "type": "scatterpolargl"
           }
          ],
          "scatterternary": [
           {
            "marker": {
             "colorbar": {
              "outlinewidth": 0,
              "ticks": ""
             }
            },
            "type": "scatterternary"
           }
          ],
          "surface": [
           {
            "colorbar": {
             "outlinewidth": 0,
             "ticks": ""
            },
            "colorscale": [
             [
              0,
              "#0d0887"
             ],
             [
              0.1111111111111111,
              "#46039f"
             ],
             [
              0.2222222222222222,
              "#7201a8"
             ],
             [
              0.3333333333333333,
              "#9c179e"
             ],
             [
              0.4444444444444444,
              "#bd3786"
             ],
             [
              0.5555555555555556,
              "#d8576b"
             ],
             [
              0.6666666666666666,
              "#ed7953"
             ],
             [
              0.7777777777777778,
              "#fb9f3a"
             ],
             [
              0.8888888888888888,
              "#fdca26"
             ],
             [
              1,
              "#f0f921"
             ]
            ],
            "type": "surface"
           }
          ],
          "table": [
           {
            "cells": {
             "fill": {
              "color": "#EBF0F8"
             },
             "line": {
              "color": "white"
             }
            },
            "header": {
             "fill": {
              "color": "#C8D4E3"
             },
             "line": {
              "color": "white"
             }
            },
            "type": "table"
           }
          ]
         },
         "layout": {
          "annotationdefaults": {
           "arrowcolor": "#2a3f5f",
           "arrowhead": 0,
           "arrowwidth": 1
          },
          "autotypenumbers": "strict",
          "coloraxis": {
           "colorbar": {
            "outlinewidth": 0,
            "ticks": ""
           }
          },
          "colorscale": {
           "diverging": [
            [
             0,
             "#8e0152"
            ],
            [
             0.1,
             "#c51b7d"
            ],
            [
             0.2,
             "#de77ae"
            ],
            [
             0.3,
             "#f1b6da"
            ],
            [
             0.4,
             "#fde0ef"
            ],
            [
             0.5,
             "#f7f7f7"
            ],
            [
             0.6,
             "#e6f5d0"
            ],
            [
             0.7,
             "#b8e186"
            ],
            [
             0.8,
             "#7fbc41"
            ],
            [
             0.9,
             "#4d9221"
            ],
            [
             1,
             "#276419"
            ]
           ],
           "sequential": [
            [
             0,
             "#0d0887"
            ],
            [
             0.1111111111111111,
             "#46039f"
            ],
            [
             0.2222222222222222,
             "#7201a8"
            ],
            [
             0.3333333333333333,
             "#9c179e"
            ],
            [
             0.4444444444444444,
             "#bd3786"
            ],
            [
             0.5555555555555556,
             "#d8576b"
            ],
            [
             0.6666666666666666,
             "#ed7953"
            ],
            [
             0.7777777777777778,
             "#fb9f3a"
            ],
            [
             0.8888888888888888,
             "#fdca26"
            ],
            [
             1,
             "#f0f921"
            ]
           ],
           "sequentialminus": [
            [
             0,
             "#0d0887"
            ],
            [
             0.1111111111111111,
             "#46039f"
            ],
            [
             0.2222222222222222,
             "#7201a8"
            ],
            [
             0.3333333333333333,
             "#9c179e"
            ],
            [
             0.4444444444444444,
             "#bd3786"
            ],
            [
             0.5555555555555556,
             "#d8576b"
            ],
            [
             0.6666666666666666,
             "#ed7953"
            ],
            [
             0.7777777777777778,
             "#fb9f3a"
            ],
            [
             0.8888888888888888,
             "#fdca26"
            ],
            [
             1,
             "#f0f921"
            ]
           ]
          },
          "colorway": [
           "#636efa",
           "#EF553B",
           "#00cc96",
           "#ab63fa",
           "#FFA15A",
           "#19d3f3",
           "#FF6692",
           "#B6E880",
           "#FF97FF",
           "#FECB52"
          ],
          "font": {
           "color": "#2a3f5f"
          },
          "geo": {
           "bgcolor": "white",
           "lakecolor": "white",
           "landcolor": "#E5ECF6",
           "showlakes": true,
           "showland": true,
           "subunitcolor": "white"
          },
          "hoverlabel": {
           "align": "left"
          },
          "hovermode": "closest",
          "mapbox": {
           "style": "light"
          },
          "paper_bgcolor": "white",
          "plot_bgcolor": "#E5ECF6",
          "polar": {
           "angularaxis": {
            "gridcolor": "white",
            "linecolor": "white",
            "ticks": ""
           },
           "bgcolor": "#E5ECF6",
           "radialaxis": {
            "gridcolor": "white",
            "linecolor": "white",
            "ticks": ""
           }
          },
          "scene": {
           "xaxis": {
            "backgroundcolor": "#E5ECF6",
            "gridcolor": "white",
            "gridwidth": 2,
            "linecolor": "white",
            "showbackground": true,
            "ticks": "",
            "zerolinecolor": "white"
           },
           "yaxis": {
            "backgroundcolor": "#E5ECF6",
            "gridcolor": "white",
            "gridwidth": 2,
            "linecolor": "white",
            "showbackground": true,
            "ticks": "",
            "zerolinecolor": "white"
           },
           "zaxis": {
            "backgroundcolor": "#E5ECF6",
            "gridcolor": "white",
            "gridwidth": 2,
            "linecolor": "white",
            "showbackground": true,
            "ticks": "",
            "zerolinecolor": "white"
           }
          },
          "shapedefaults": {
           "line": {
            "color": "#2a3f5f"
           }
          },
          "ternary": {
           "aaxis": {
            "gridcolor": "white",
            "linecolor": "white",
            "ticks": ""
           },
           "baxis": {
            "gridcolor": "white",
            "linecolor": "white",
            "ticks": ""
           },
           "bgcolor": "#E5ECF6",
           "caxis": {
            "gridcolor": "white",
            "linecolor": "white",
            "ticks": ""
           }
          },
          "title": {
           "x": 0.05
          },
          "xaxis": {
           "automargin": true,
           "gridcolor": "white",
           "linecolor": "white",
           "ticks": "",
           "title": {
            "standoff": 15
           },
           "zerolinecolor": "white",
           "zerolinewidth": 2
          },
          "yaxis": {
           "automargin": true,
           "gridcolor": "white",
           "linecolor": "white",
           "ticks": "",
           "title": {
            "standoff": 15
           },
           "zerolinecolor": "white",
           "zerolinewidth": 2
          }
         }
        },
        "title": {
         "text": "Répartition des véhicules par âge"
        }
       }
      }
     },
     "metadata": {},
     "output_type": "display_data"
    }
   ],
   "source": [
    "fig = px.pie(\n",
    "    df_grouped, \n",
    "    names=\"Antiguitat\", \n",
    "    values=\"Nombre\", \n",
    "    title=\"Répartition des véhicules par âge\",\n",
    "    color_discrete_sequence=px.colors.sequential.Reds\n",
    ")\n",
    "fig.update_traces(textinfo=\"percent+label\")\n",
    "fig.show()"
   ]
  }
 ],
 "metadata": {
  "kernelspec": {
   "display_name": "Python 3",
   "language": "python",
   "name": "python3"
  },
  "language_info": {
   "codemirror_mode": {
    "name": "ipython",
    "version": 3
   },
   "file_extension": ".py",
   "mimetype": "text/x-python",
   "name": "python",
   "nbconvert_exporter": "python",
   "pygments_lexer": "ipython3",
   "version": "3.11.5"
  }
 },
 "nbformat": 4,
 "nbformat_minor": 2
}
