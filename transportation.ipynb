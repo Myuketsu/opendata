{
 "cells": [
  {
   "cell_type": "code",
   "execution_count": 1,
   "metadata": {},
   "outputs": [],
   "source": [
    "import pandas as pd\n",
    "import geopandas as gpd\n",
    "from shapely import wkt\n",
    "import plotly.express as px\n",
    "import plotly.graph_objects as go\n",
    "import json\n",
    "\n",
    "CENTER_BARCELONA = {\"lat\": 41.3851, \"lon\": 2.1734}\n",
    "\n",
    "def convert_wkt_to_geometry(df: pd.DataFrame, wkt_column: str) -> gpd.GeoDataFrame:\n",
    "    # Convert the GEOM_WKT column to geometry\n",
    "    df['geometry'] = df[wkt_column].apply(wkt.loads)\n",
    "\n",
    "    # Convert the DataFrame to a GeoDataFrame\n",
    "    return gpd.GeoDataFrame(df.drop(wkt_column, axis='columns'), geometry='geometry')"
   ]
  },
  {
   "cell_type": "code",
   "execution_count": 2,
   "metadata": {},
   "outputs": [],
   "source": [
    "vage_df = pd.read_csv('data/age_of_vehicle/2023/2023_Antiguitat_tipus_vehicle.csv')\n",
    "\n",
    "# vage_df['Nom_Districte'] = vage_df['Nom_Districte'].replace('Sants-MontjuÃ¯c', 'Sants-Montjuïc')\n",
    "# vage_df['Nom_Districte'] = vage_df['Nom_Districte'].replace('SarriÃ -St. Gervasi', 'Sarrià-Sant Gervasi')\n",
    "# vage_df['Nom_Districte'] = vage_df['Nom_Districte'].replace('GrÃ cia', 'Gràcia')\n",
    "# vage_df['Nom_Districte'] = vage_df['Nom_Districte'].replace('Horta-GuinardÃ³', 'Horta-Guinardó')\n",
    "# vage_df['Nom_Districte'] = vage_df['Nom_Districte'].replace('Sant MartÃ­', 'Sant Martí')\n",
    "\n",
    "# vage_df.to_csv('data/age_of_vehicle/2023/2023_Antiguitat_tipus_vehicle.csv', index=False)"
   ]
  },
  {
   "cell_type": "code",
   "execution_count": 3,
   "metadata": {},
   "outputs": [],
   "source": [
    "total_vehicles_per_district = vage_df.groupby(['Nom_Districte']).Nombre.sum().reset_index()\n",
    "total_vehicles_per_district.columns = ['Nom_Districte', 'Total_Vehicles']\n",
    "\n",
    "old_vehicles_per_district = vage_df[vage_df.Antiguitat == 'MÃ©s de 20 anys'].groupby(['Nom_Districte']).Nombre.sum().reset_index()\n",
    "old_vehicles_per_district.columns = ['Nom_Districte', 'Vehicles_20_Any']"
   ]
  },
  {
   "cell_type": "code",
   "execution_count": 4,
   "metadata": {},
   "outputs": [],
   "source": [
    "merged = total_vehicles_per_district.merge(old_vehicles_per_district, on='Nom_Districte', how='left')\n",
    "merged['Percentage'] = (merged['Vehicles_20_Any'] / merged['Total_Vehicles']) * 100\n",
    "merged['Percentage'] = merged['Percentage'].map('{:,.2f}'.format)\n",
    "merged = merged[merged.Nom_Districte != 'No consta']\n",
    "merged['Percentage'] = merged['Percentage'].astype(float)"
   ]
  },
  {
   "cell_type": "code",
   "execution_count": 5,
   "metadata": {},
   "outputs": [],
   "source": [
    "district_df = pd.read_csv(\"./data/district_zone/BarcelonaCiutat_Districtes.csv\")\n",
    "\n",
    "gdf = convert_wkt_to_geometry(district_df, 'geometria_wgs84')\n",
    "gdf = gdf.rename(columns={'nom_districte': 'Nom_Districte'})\n",
    "\n",
    "gdf_merged = gdf.merge(merged, on='Nom_Districte', how='left')"
   ]
  },
  {
   "cell_type": "code",
   "execution_count": 6,
   "metadata": {},
   "outputs": [],
   "source": [
    "# fig = px.choropleth_mapbox(\n",
    "#     gdf_merged,\n",
    "#     geojson=gdf_merged,\n",
    "#     locations=gdf_merged.index,\n",
    "#     color=\"Percentage\",\n",
    "#     color_continuous_scale=\"OrRd\",\n",
    "#     mapbox_style=\"carto-positron\",\n",
    "#     center=CENTER_BARCELONA,\n",
    "#     zoom=10,\n",
    "#     hover_name=\"Nom_Districte\",\n",
    "#     hover_data={\n",
    "#         \"Percentage\": True,\n",
    "#     },\n",
    "#     title=\"Percentage of vehicles older than 20 years per district\",\n",
    "# )\n",
    "\n",
    "# fig.update_layout(margin={\"r\":0,\"t\":40,\"l\":0,\"b\":0})\n",
    "\n",
    "# fig.show()"
   ]
  },
  {
   "cell_type": "code",
   "execution_count": null,
   "metadata": {},
   "outputs": [],
   "source": [
    "gdf_merged = gdf.merge(merged, on=\"Nom_Districte\", how=\"left\")\n",
    "\n",
    "geojson = json.loads(gdf_merged.to_json())\n",
    "\n",
    "fig = go.Figure(go.Choroplethmapbox(\n",
    "    geojson=geojson,\n",
    "    locations=gdf_merged.index,\n",
    "    z=gdf_merged[\"Percentage\"].astype(float),  \n",
    "    colorscale=\"OrRd\", \n",
    "    marker_opacity=0.7,\n",
    "    marker_line_width=0.5,\n",
    "    colorbar_title=\"Percentage (%)\",\n",
    "    text=gdf_merged[\"Nom_Districte\"] + \"<br>Percentage: \" + gdf_merged[\"Percentage\"].astype(str) + \"%\",\n",
    "))\n",
    "\n",
    "fig.update_layout(\n",
    "    title_text=\"Percentage of vehicles older than 20 years per district\",\n",
    "    mapbox_style=\"carto-positron\",\n",
    "    mapbox_zoom=10,\n",
    "    mapbox_center=CENTER_BARCELONA,\n",
    "    margin={\"r\":0,\"t\":40,\"l\":0,\"b\":0}\n",
    ")\n",
    "\n",
    "fig.show()"
   ]
  },
  {
   "cell_type": "markdown",
   "metadata": {},
   "source": [
    "---"
   ]
  },
  {
   "cell_type": "code",
   "execution_count": 8,
   "metadata": {},
   "outputs": [],
   "source": [
    "pop_df = pd.read_csv('data/population/2023/2023_pad_mdbas.csv')\n",
    "\n",
    "# pop_df['Nom_Districte'] = pop_df['Nom_Districte'].replace('Sants-MontjuÃ¯c', 'Sants-Montjuïc')\n",
    "# pop_df['Nom_Districte'] = pop_df['Nom_Districte'].replace('SarriÃ -Sant Gervasi', 'Sarrià-Sant Gervasi')\n",
    "# pop_df['Nom_Districte'] = pop_df['Nom_Districte'].replace('GrÃ cia', 'Gràcia')\n",
    "# pop_df['Nom_Districte'] = pop_df['Nom_Districte'].replace('Horta-GuinardÃ³', 'Horta-Guinardó')\n",
    "# pop_df['Nom_Districte'] = pop_df['Nom_Districte'].replace('Sant MartÃ­', 'Sant Martí')\n",
    "\n",
    "# pop_df.to_csv('data/population/2023/2023_pad_mdbas.csv', index=False)"
   ]
  },
  {
   "cell_type": "code",
   "execution_count": 9,
   "metadata": {},
   "outputs": [],
   "source": [
    "pop_per_district = pop_df.groupby(['Nom_Districte']).Valor.sum().reset_index()\n",
    "pop_per_district.columns = ['Nom_Districte', 'Population']"
   ]
  },
  {
   "cell_type": "code",
   "execution_count": 10,
   "metadata": {},
   "outputs": [],
   "source": [
    "vtype_df = pd.read_csv(\"data/type_of_vehicle/2023/2023_Parc_vehicles_tipus_propulsio.csv\")\n",
    "\n",
    "# vtype_df['Nom_Districte'] = vtype_df['Nom_Districte'].replace('Sants-MontjuÃ¯c', 'Sants-Montjuïc')\n",
    "# vtype_df['Nom_Districte'] = vtype_df['Nom_Districte'].replace('SarriÃ -St. Gervasi', 'Sarrià-Sant Gervasi')\n",
    "# vtype_df['Nom_Districte'] = vtype_df['Nom_Districte'].replace('GrÃ cia', 'Gràcia')\n",
    "# vtype_df['Nom_Districte'] = vtype_df['Nom_Districte'].replace('Horta-GuinardÃ³', 'Horta-Guinardó')\n",
    "# vtype_df['Nom_Districte'] = vtype_df['Nom_Districte'].replace('Sant MartÃ­', 'Sant Martí')\n",
    "# vtype_df['Tipus_Propulsio'] = vtype_df['Tipus_Propulsio'].replace('ElÃ¨ctrica', 'Elèctrica')\n",
    "# df['Tipus_Propulsio'] = vtype_df['Tipus_Propulsio'].replace('HÃ­brid', 'Híbrid')\n",
    "\n",
    "# vtype_df.to_csv('data/type_of_vehicle/2023/2023_Parc_vehicles_tipus_propulsio.csv', index=False)"
   ]
  },
  {
   "cell_type": "code",
   "execution_count": 11,
   "metadata": {},
   "outputs": [],
   "source": [
    "vehuicles_per_district = vtype_df.groupby(['Nom_Districte']).Nombre.sum().reset_index()\n",
    "vehuicles_per_district.columns = ['Nom_Districte', 'Total_Vehicles']"
   ]
  },
  {
   "cell_type": "code",
   "execution_count": 12,
   "metadata": {},
   "outputs": [],
   "source": [
    "merged = vehuicles_per_district.merge(pop_per_district, on='Nom_Districte', how='left')\n",
    "merged['Vehicles_Per_1000'] = (merged['Total_Vehicles'] / merged['Population']) * 1000\n",
    "merged = merged[merged.Nom_Districte != 'No consta']\n",
    "merged['Vehicles_Per_1000'] = merged['Vehicles_Per_1000'].map('{:,.2f}'.format)"
   ]
  },
  {
   "cell_type": "code",
   "execution_count": null,
   "metadata": {},
   "outputs": [],
   "source": [
    "gdf_merged = gdf.merge(merged, on=\"Nom_Districte\", how=\"left\")\n",
    "\n",
    "geojson = json.loads(gdf_merged.to_json())\n",
    "\n",
    "fig = go.Figure(go.Choroplethmapbox(\n",
    "    geojson=geojson,\n",
    "    locations=gdf_merged.index,\n",
    "    z=gdf_merged[\"Vehicles_Per_1000\"].astype(float),  \n",
    "    colorscale=\"OrRd\", \n",
    "    marker_opacity=0.7,\n",
    "    marker_line_width=0.5,\n",
    "    colorbar_title=\"Vehicles Per 1000 habitants (‰)\",\n",
    "    text=gdf_merged[\"Nom_Districte\"] + \"<br>Vehicles Per 1000: \" + gdf_merged[\"Vehicles_Per_1000\"].astype(str) + \"‰\",\n",
    "))\n",
    "\n",
    "fig.update_layout(\n",
    "    title_text=\"Vehicles Per 1000 habitant per district\",\n",
    "    mapbox_style=\"carto-positron\",\n",
    "    mapbox_zoom=10,\n",
    "    mapbox_center=CENTER_BARCELONA,\n",
    "    margin={\"r\":0,\"t\":40,\"l\":0,\"b\":0}\n",
    ")\n",
    "\n",
    "fig.show()"
   ]
  },
  {
   "cell_type": "markdown",
   "metadata": {},
   "source": [
    "---"
   ]
  },
  {
   "cell_type": "code",
   "execution_count": 14,
   "metadata": {},
   "outputs": [],
   "source": [
    "# number of electric or hybrid vehicles per district\n",
    "green_vehicles_per_district = vtype_df[(vtype_df.Tipus_Propulsio == 'Elèctrica') | (vtype_df.Tipus_Propulsio == 'Híbrid')].groupby(['Nom_Districte']).Nombre.sum().reset_index()\n",
    "green_vehicles_per_district.columns = ['Nom_Districte', 'Green_Vehicles']"
   ]
  },
  {
   "cell_type": "code",
   "execution_count": 15,
   "metadata": {},
   "outputs": [],
   "source": [
    "merged = vehuicles_per_district.merge(green_vehicles_per_district, on='Nom_Districte', how='left')\n",
    "merged['Percentage'] = (merged['Green_Vehicles'] / merged['Total_Vehicles']) * 100\n",
    "merged['Percentage'] = merged['Percentage'].map('{:,.2f}'.format)"
   ]
  },
  {
   "cell_type": "code",
   "execution_count": null,
   "metadata": {},
   "outputs": [],
   "source": [
    "gdf_merged = gdf.merge(merged, on=\"Nom_Districte\", how=\"left\")\n",
    "\n",
    "geojson = json.loads(gdf_merged.to_json())\n",
    "\n",
    "fig = go.Figure(go.Choroplethmapbox(\n",
    "    geojson=geojson,\n",
    "    locations=gdf_merged.index,\n",
    "    z=gdf_merged[\"Percentage\"].astype(float),  \n",
    "    colorscale=\"OrRd\", \n",
    "    marker_opacity=0.7,\n",
    "    marker_line_width=0.5,\n",
    "    colorbar_title=\"Percentage (%)\",\n",
    "    text=gdf_merged[\"Nom_Districte\"] + \"<br>Percentage: \" + gdf_merged[\"Percentage\"].astype(str) + \"%\",\n",
    "    reversescale=True\n",
    "))\n",
    "\n",
    "fig.update_layout(\n",
    "    title_text=\"Percentage of green vehicles per district\",\n",
    "    mapbox_style=\"carto-positron\",\n",
    "    mapbox_zoom=10,\n",
    "    mapbox_center=CENTER_BARCELONA,\n",
    "    margin={\"r\":0,\"t\":40,\"l\":0,\"b\":0}\n",
    ")\n",
    "\n",
    "fig.show()"
   ]
  }
 ],
 "metadata": {
  "kernelspec": {
   "display_name": "Python 3",
   "language": "python",
   "name": "python3"
  },
  "language_info": {
   "codemirror_mode": {
    "name": "ipython",
    "version": 3
   },
   "file_extension": ".py",
   "mimetype": "text/x-python",
   "name": "python",
   "nbconvert_exporter": "python",
   "pygments_lexer": "ipython3",
   "version": "3.11.5"
  }
 },
 "nbformat": 4,
 "nbformat_minor": 2
}
